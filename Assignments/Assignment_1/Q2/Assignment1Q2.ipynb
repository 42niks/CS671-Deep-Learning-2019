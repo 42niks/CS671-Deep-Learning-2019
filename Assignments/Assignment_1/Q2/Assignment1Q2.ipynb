{
 "cells": [
  {
   "cell_type": "code",
   "execution_count": 143,
   "metadata": {},
   "outputs": [],
   "source": [
    "import numpy as np\n",
    "import tensorflow as tf\n",
    "import matplotlib.pyplot as plt\n",
    "import time as t\n",
    "\n",
    "%matplotlib inline"
   ]
  },
  {
   "cell_type": "code",
   "execution_count": 144,
   "metadata": {},
   "outputs": [],
   "source": [
    "# Setting the threshold, where to stop the calculation\n",
    "threshold = 0.1"
   ]
  },
  {
   "cell_type": "markdown",
   "metadata": {},
   "source": [
    "### Loading the .npy files"
   ]
  },
  {
   "cell_type": "code",
   "execution_count": 145,
   "metadata": {},
   "outputs": [
    {
     "name": "stdout",
     "output_type": "stream",
     "text": [
      "(100, 2)\n"
     ]
    }
   ],
   "source": [
    "masses = np.load('files/masses.npy')\n",
    "positions = np.load('files/positions.npy')\n",
    "velocities = np.load('files/velocities.npy')\n",
    "\n",
    "print(positions.shape)"
   ]
  },
  {
   "cell_type": "code",
   "execution_count": 146,
   "metadata": {},
   "outputs": [],
   "source": [
    "#use s to increase or reduce \n",
    "s = len(positions)\n",
    "\n",
    "position_x = positions[:,0][0:s]\n",
    "position_y = positions[:,-1][0:s]\n",
    "initial_velocity_x = velocities[:,0][0:s]\n",
    "initial_velocity_y = velocities[:,-1][0:s]\n",
    "acc_x = np.zeros(len(position_x))[0:s]\n",
    "acc_y = np.zeros(len(position_y))[0:s]\n",
    "mass = masses.reshape(len(masses),)[0:s]"
   ]
  },
  {
   "cell_type": "markdown",
   "metadata": {},
   "source": [
    "### Defining constants and placeholders required"
   ]
  },
  {
   "cell_type": "code",
   "execution_count": 147,
   "metadata": {},
   "outputs": [],
   "source": [
    "t2_cons = tf.constant(0.5,dtype=tf.float64,name='cons_fac')\n",
    "time  = tf.constant(0.0001,dtype=tf.float64,name=\"time_step\")\n",
    "G = tf.constant(6.67*pow(10,5),dtype=tf.float64,name=\"G-constant\")\n",
    "neg = tf.constant(-1.0,dtype=tf.float64)"
   ]
  },
  {
   "cell_type": "code",
   "execution_count": 148,
   "metadata": {},
   "outputs": [],
   "source": [
    "px = tf.placeholder(tf.float64,name=\"px\")\n",
    "py = tf.placeholder(tf.float64,name=\"py\")\n",
    "ux = tf.placeholder(tf.float64,name=\"ux\")\n",
    "uy = tf.placeholder(tf.float64,name=\"uy\")\n",
    "ax = tf.placeholder(tf.float64,name=\"ax\")\n",
    "ay = tf.placeholder(tf.float64,name=\"ay\")\n",
    "m =  tf.placeholder(tf.float64,name=\"mass\")"
   ]
  },
  {
   "cell_type": "markdown",
   "metadata": {},
   "source": [
    "#### Calculating initial euclidean distance and cube of distance for acceleration using broadcasting for outer subtraction"
   ]
  },
  {
   "cell_type": "code",
   "execution_count": 149,
   "metadata": {},
   "outputs": [],
   "source": [
    "#for x\n",
    "dis_x = tf.transpose([px]) - px\n",
    "\n",
    "#for y\n",
    "dis_y = tf.transpose([py]) - py\n",
    "\n",
    "dis_z = tf.sqrt(tf.add(tf.square(dis_x),tf.square(dis_y)))\n",
    "\n",
    "cube_dis_z = tf.pow(dis_z,3)"
   ]
  },
  {
   "cell_type": "markdown",
   "metadata": {},
   "source": [
    "#### Calculating acceleration in x and y direction for each particle due to graviational force"
   ]
  },
  {
   "cell_type": "code",
   "execution_count": 150,
   "metadata": {},
   "outputs": [],
   "source": [
    "#For ax\n",
    "divide_mass_mul_x = tf.divide(tf.multiply(m,dis_x),cube_dis_z)\n",
    "\n",
    "#removing nan, where cube_dis_z is zero\n",
    "divide_mass_mul_x = tf.where(tf.is_nan(divide_mass_mul_x), tf.zeros_like(divide_mass_mul_x), divide_mass_mul_x)\n",
    "\n",
    "#summation of all acceleration and multiplied with G(graiational constant)\n",
    "sum_mass_mul_x = tf.multiply(G,tf.reduce_sum(divide_mass_mul_x,1))\n",
    "\n",
    "#Final acceleration along x direction\n",
    "final_acc_x = tf.multiply(neg,sum_mass_mul_x)\n",
    "\n",
    "########################################################\n",
    "\n",
    "\n",
    "#For ay\n",
    "divide_mass_mul_y = tf.divide(tf.multiply(m,dis_y),cube_dis_z)\n",
    "\n",
    "#removing nan, where cube_dis_z is zero\n",
    "divide_mass_mul_y = tf.where(tf.is_nan(divide_mass_mul_y), tf.zeros_like(divide_mass_mul_y), divide_mass_mul_y);\n",
    "\n",
    "#summation of all acceleration and multiplied with G(graiational constant)\n",
    "sum_mass_mul_y = tf.multiply(G,tf.reduce_sum(divide_mass_mul_y,1))\n",
    "\n",
    "# Final acceleration along x direction\n",
    "final_acc_y = tf.multiply(neg,sum_mass_mul_y)"
   ]
  },
  {
   "cell_type": "markdown",
   "metadata": {},
   "source": [
    "#### Updating position of particle along x and y direction according to eqn\n",
    "\n",
    "\\begin{align}\n",
    "\\ x & = \\ x_0 + ut+0.5at^2  \\\\\n",
    "\\end{align}"
   ]
  },
  {
   "cell_type": "code",
   "execution_count": 151,
   "metadata": {},
   "outputs": [],
   "source": [
    "## For x position\n",
    "t1_x = tf.multiply(ux,time,name=\"t1_x\")\n",
    "t2_x = tf.multiply(tf.multiply(t2_cons,final_acc_x),tf.square(time))\n",
    "\n",
    "tx = tf.add(px,tf.add(t1_x,t2_x))"
   ]
  },
  {
   "cell_type": "code",
   "execution_count": 152,
   "metadata": {},
   "outputs": [],
   "source": [
    "# For y position\n",
    "t1_y = tf.multiply(uy,time,name=\"t1_y\")\n",
    "t2_y = tf.multiply(tf.multiply(t2_cons,final_acc_y),tf.square(time))\n",
    "\n",
    "ty = tf.add(py,tf.add(t1_y,t2_y))"
   ]
  },
  {
   "cell_type": "markdown",
   "metadata": {},
   "source": [
    "#### Updating velocity after one time step\n",
    "\n",
    "\\begin{align}\n",
    "\\ v & = \\ u + at  \\\\\n",
    "\\end{align}"
   ]
  },
  {
   "cell_type": "code",
   "execution_count": 153,
   "metadata": {},
   "outputs": [],
   "source": [
    "# for x direction\n",
    "v_x = tf.add(ux,tf.multiply(final_acc_x,time))\n",
    "\n",
    "# for y direction\n",
    "v_y = tf.add(uy,tf.multiply(final_acc_y,time))"
   ]
  },
  {
   "cell_type": "markdown",
   "metadata": {},
   "source": [
    "#### Computation of distance matrix again to get minimum distance and check for threshold"
   ]
  },
  {
   "cell_type": "code",
   "execution_count": 154,
   "metadata": {},
   "outputs": [],
   "source": [
    "#for x\n",
    "dis_x_new = tf.transpose([tx]) - tx\n",
    "\n",
    "#for y\n",
    "dis_y_new = tf.transpose([ty]) - ty\n",
    "\n",
    "dis_z_new = tf.sqrt(tf.add(tf.square(dis_x_new),tf.square(dis_y_new)))\n",
    "\n",
    "max_dis_z_new = tf.reduce_max(dis_z_new)\n",
    "\n",
    "#change the diagonal matrix to find min element and replacing with max matrix element.Because diagonal is zero\n",
    "dis_z_new = tf.matrix_set_diag(dis_z_new,s*[max_dis_z_new])\n",
    "\n",
    "min_dis_z_new = tf.reduce_min(dis_z_new)"
   ]
  },
  {
   "cell_type": "markdown",
   "metadata": {},
   "source": [
    "#### Initial values in placeholders"
   ]
  },
  {
   "cell_type": "code",
   "execution_count": 161,
   "metadata": {},
   "outputs": [],
   "source": [
    "feed_dict = {\n",
    "    px:position_x,\n",
    "    py:position_y,\n",
    "    ux:initial_velocity_x,\n",
    "    uy:initial_velocity_y,\n",
    "    ax:acc_x,\n",
    "    ay:acc_y,\n",
    "    m:mass\n",
    "}"
   ]
  },
  {
   "cell_type": "code",
   "execution_count": 162,
   "metadata": {},
   "outputs": [],
   "source": [
    "def plot(x,y,counter):\n",
    "    plt.ylim(-10, 80)\n",
    "    plt.xlim(-10, 80)\n",
    "    \n",
    "    #plt.scatter(x, y)\n",
    "    plt.scatter(x[8], y[8],c='red',s=50)\n",
    "    plt.scatter(x[91], y[91],c='blue',s=50)\n",
    "    plt.savefig('As1Q2_vid/'+str(counter)+'.png')\n",
    "    plt.close()"
   ]
  },
  {
   "cell_type": "code",
   "execution_count": 163,
   "metadata": {},
   "outputs": [
    {
     "name": "stdout",
     "output_type": "stream",
     "text": [
      "Time Taken:  2.1669862270355225\n"
     ]
    }
   ],
   "source": [
    "start = t.time()\n",
    "\n",
    "count_iter = 0\n",
    "\n",
    "with tf.Session() as session:\n",
    "    \n",
    "    while(True):\n",
    "        result = session.run([tx,ty,v_x,v_y,final_acc_x,final_acc_y,min_dis_z_new],feed_dict=feed_dict)\n",
    "        \n",
    "        # Writing graph summary in logs\n",
    "        #writer = tf.summary.FileWriter(\"./logs/graph\",session.graph)\n",
    "        \n",
    "        ##Updating the values\n",
    "        feed_dict[px]=result[0]\n",
    "        feed_dict[py]=result[1]\n",
    "        feed_dict[ux]=result[2]\n",
    "        feed_dict[uy]=result[3]\n",
    "        feed_dict[ax]=result[4]\n",
    "        feed_dict[ay]=result[5]\n",
    "        \n",
    "        #Save plot for the video\n",
    "        #plot(result[0],result[1],count_iter)\n",
    "        \n",
    "        ### checking if minimum distance between any two points is below threshold\n",
    "        if result[6]<=threshold:\n",
    "            break\n",
    "            \n",
    "        count_iter+=1\n",
    "        \n",
    "end = t.time()\n",
    "print(\"Time Taken: \",end - start)"
   ]
  },
  {
   "cell_type": "markdown",
   "metadata": {},
   "source": [
    "#### Save position and velocity as .npy file"
   ]
  },
  {
   "cell_type": "code",
   "execution_count": 164,
   "metadata": {},
   "outputs": [],
   "source": [
    "final_pos = []\n",
    "final_vel = []\n",
    "\n",
    "for i in range(len(result[0])):\n",
    "    final_pos.append([result[0][i],result[1][i]])\n",
    "    final_vel.append([result[2][i],result[3][i]])"
   ]
  },
  {
   "cell_type": "code",
   "execution_count": 165,
   "metadata": {},
   "outputs": [],
   "source": [
    "final_pos = np.array(final_pos,dtype='float64')\n",
    "final_vel = np.array(final_vel,dtype='float64')"
   ]
  },
  {
   "cell_type": "code",
   "execution_count": 166,
   "metadata": {},
   "outputs": [],
   "source": [
    "np.save('output/positions.npy', final_pos)\n",
    "np.save('output/velocities.npy', final_vel)"
   ]
  },
  {
   "cell_type": "markdown",
   "metadata": {},
   "source": [
    "## Tensorbaord Visualization\n",
    "- tensorboard --logdir=path/to/log-directory"
   ]
  },
  {
   "cell_type": "markdown",
   "metadata": {},
   "source": [
    "## Video Creation"
   ]
  },
  {
   "cell_type": "code",
   "execution_count": 139,
   "metadata": {},
   "outputs": [],
   "source": [
    "import os\n",
    "import cv2"
   ]
  },
  {
   "cell_type": "code",
   "execution_count": 112,
   "metadata": {},
   "outputs": [],
   "source": [
    "f=os.listdir(\"As1Q2_vid\")\n",
    "\n",
    "sorted_files = sorted(f,key=lambda x:int(x.split('.')[0]))\n",
    "\n",
    "img_frame = []\n",
    "\n",
    "for file in sorted_files:\n",
    "    path=\"As1Q2_vid/\"\n",
    "    img = cv2.imread(path+file)\n",
    "    h,w,l = img.shape\n",
    "    size=(w,h)\n",
    "    img_frame.append(img)\n",
    "    \n",
    "out = cv2.VideoWriter(\"As1Q2.mp4\",0x7634706d,10,size)"
   ]
  },
  {
   "cell_type": "code",
   "execution_count": 137,
   "metadata": {},
   "outputs": [],
   "source": [
    "for i in range(len(img_frame)):\n",
    "    out.write(img_frame[i])\n",
    "out.release()"
   ]
  },
  {
   "cell_type": "code",
   "execution_count": 138,
   "metadata": {},
   "outputs": [],
   "source": []
  },
  {
   "cell_type": "code",
   "execution_count": null,
   "metadata": {},
   "outputs": [],
   "source": []
  }
 ],
 "metadata": {
  "kernelspec": {
   "display_name": "Python 3",
   "language": "python",
   "name": "python3"
  },
  "language_info": {
   "codemirror_mode": {
    "name": "ipython",
    "version": 3
   },
   "file_extension": ".py",
   "mimetype": "text/x-python",
   "name": "python",
   "nbconvert_exporter": "python",
   "pygments_lexer": "ipython3",
   "version": "3.4.2"
  }
 },
 "nbformat": 4,
 "nbformat_minor": 2
}
