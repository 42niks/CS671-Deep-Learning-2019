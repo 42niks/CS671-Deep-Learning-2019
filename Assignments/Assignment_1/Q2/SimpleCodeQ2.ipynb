{
 "cells": [
  {
   "cell_type": "code",
   "execution_count": 48,
   "metadata": {},
   "outputs": [],
   "source": [
    "import numpy as np\n",
    "import matplotlib.pyplot as plt\n",
    "\n",
    "%matplotlib inline"
   ]
  },
  {
   "cell_type": "code",
   "execution_count": 49,
   "metadata": {},
   "outputs": [],
   "source": [
    "masses = np.load('files/masses.npy')\n",
    "positions = np.load('files/positions.npy')\n",
    "velocities = np.load('files/velocities.npy')"
   ]
  },
  {
   "cell_type": "code",
   "execution_count": 50,
   "metadata": {},
   "outputs": [],
   "source": [
    "t2_cons = np.float64(0.5)\n",
    "delta_time  = np.float64(0.0001)\n",
    "G = np.float64(6.67*pow(10,5))\n",
    "neg = np.float64(-1.0)\n",
    "threshold = np.float64(0.1)"
   ]
  },
  {
   "cell_type": "code",
   "execution_count": 51,
   "metadata": {},
   "outputs": [],
   "source": [
    "#calculate acceleration usinng graviation:\n",
    "\n",
    "def get_cube_dis(position_x,position_y):\n",
    "    dis_x = np.subtract.outer(position_x, position_x)\n",
    "\n",
    "    dis_y = np.subtract.outer(position_y, position_y)\n",
    "\n",
    "    dis_z = np.sqrt(np.add(np.square(dis_x),np.square(dis_y)))\n",
    "\n",
    "    cube_dis_z = np.power(dis_z,3)\n",
    "    \n",
    "    return dis_x,dis_y,cube_dis_z"
   ]
  },
  {
   "cell_type": "code",
   "execution_count": 52,
   "metadata": {},
   "outputs": [],
   "source": [
    "#For ax\n",
    "def get_acc(mass,cube_dis_z,dis):\n",
    "    mass_mul = np.multiply(mass,dis)\n",
    "\n",
    "    \n",
    "    divide_mass_mul = np.divide(mass_mul,cube_dis_z)\n",
    "\n",
    "    divide_mass_mul = np.where(np.isnan(divide_mass_mul), np.zeros_like(divide_mass_mul), divide_mass_mul)\n",
    "\n",
    "    sum_mass_mul = np.multiply(G,np.sum(divide_mass_mul,1))\n",
    "    final_acc = np.multiply(neg,sum_mass_mul)\n",
    "\n",
    "    return final_acc"
   ]
  },
  {
   "cell_type": "markdown",
   "metadata": {},
   "source": [
    "x = x0 + ut+0.5*at2"
   ]
  },
  {
   "cell_type": "code",
   "execution_count": 53,
   "metadata": {},
   "outputs": [],
   "source": [
    "def update_pos(position,initial_velocity,final_acc):\n",
    "\n",
    "    t1 = np.multiply(initial_velocity,delta_time)\n",
    "    t2 = np.multiply(np.multiply(t2_cons,final_acc),np.square(delta_time))\n",
    "\n",
    "    t = np.add(position,np.add(t1,t2))\n",
    "    return t"
   ]
  },
  {
   "cell_type": "markdown",
   "metadata": {},
   "source": [
    "##### final velocity after one time step\n",
    "\n",
    "v = u+at"
   ]
  },
  {
   "cell_type": "code",
   "execution_count": 54,
   "metadata": {},
   "outputs": [],
   "source": [
    "def update_vel(initial_velocity,final_acc):\n",
    "    v = np.add(initial_velocity,np.multiply(final_acc,delta_time))\n",
    "    \n",
    "    return v"
   ]
  },
  {
   "cell_type": "code",
   "execution_count": 55,
   "metadata": {},
   "outputs": [],
   "source": [
    "def new_dis(tx,ty):\n",
    "    ## lets do computation of distance matrix again for max_dis\n",
    "\n",
    "    #for x\n",
    "    dis_x_new = np.subtract.outer(tx, tx)\n",
    "\n",
    "    #for y\n",
    "    dis_y_new = np.subtract.outer(ty, ty)\n",
    "\n",
    "    dis_z_new = np.sqrt(np.add(np.square(dis_x_new),np.square(dis_y_new)))\n",
    "\n",
    "\n",
    "    max_dis_z_new = np.max(dis_z_new)\n",
    "\n",
    "    #change the diagonal matrix to find minm elemen.Because diagonal is zero\n",
    "    np.fill_diagonal(dis_z_new,max_dis_z_new)\n",
    "\n",
    "    min_dis_z_new = np.min(dis_z_new)\n",
    "\n",
    "#     if min_dis_z_new<threshold:\n",
    "#         print(np.argwhere(dis_z_new==min_dis_z_new))\n",
    "    \n",
    "    return min_dis_z_new"
   ]
  },
  {
   "cell_type": "code",
   "execution_count": 56,
   "metadata": {},
   "outputs": [],
   "source": [
    "s = len(positions)\n",
    "\n",
    "position_x = positions[:,0][0:s]\n",
    "position_y = positions[:,-1][0:s]\n",
    "initial_velocity_x = velocities[:,0][0:s]\n",
    "initial_velocity_y = velocities[:,-1][0:s]\n",
    "acc_x = np.zeros(len(position_x))[0:s]\n",
    "acc_y = np.zeros(len(position_y))[0:s]\n",
    "mass = masses.reshape(len(masses),)[0:s]"
   ]
  },
  {
   "cell_type": "code",
   "execution_count": 57,
   "metadata": {},
   "outputs": [
    {
     "name": "stderr",
     "output_type": "stream",
     "text": [
      "/usr/local/lib/python3.4/dist-packages/ipykernel_launcher.py:6: RuntimeWarning: invalid value encountered in true_divide\n",
      "  \n"
     ]
    },
    {
     "name": "stdout",
     "output_type": "stream",
     "text": [
      "0.9073066711425781\n"
     ]
    }
   ],
   "source": [
    "import time\n",
    "start = time.time()\n",
    "\n",
    "\n",
    "for i in range(500):\n",
    "    \n",
    "    dis_x,dis_y,cube_dis_z = get_cube_dis(position_x,position_y)\n",
    "    final_acc_x = get_acc(mass,cube_dis_z,dis_x)\n",
    "    final_acc_y = get_acc(mass,cube_dis_z,dis_y)\n",
    "    \n",
    "    #print(final_acc_x[0:10])\n",
    "    \n",
    "    tx = update_pos(position_x,initial_velocity_x,final_acc_x)\n",
    "    ty = update_pos(position_y,initial_velocity_y,final_acc_y)\n",
    "    \n",
    "    v_x = update_vel(initial_velocity_x,final_acc_x)\n",
    "    v_y = update_vel(initial_velocity_y,final_acc_y)\n",
    "    \n",
    "    min_dis_z_new = new_dis(tx,ty)\n",
    "    #print(min_dis_z_new)\n",
    "    \n",
    "    position_x = tx\n",
    "    position_y = ty\n",
    "    \n",
    "    initial_velocity_x = v_x\n",
    "    initial_velocity_y = v_y\n",
    "    \n",
    "    if min_dis_z_new<threshold:\n",
    "        break\n",
    "    \n",
    "\n",
    "end = time.time()\n",
    "print(end - start)"
   ]
  }
 ],
 "metadata": {
  "kernelspec": {
   "display_name": "Python 3",
   "language": "python",
   "name": "python3"
  },
  "language_info": {
   "codemirror_mode": {
    "name": "ipython",
    "version": 3
   },
   "file_extension": ".py",
   "mimetype": "text/x-python",
   "name": "python",
   "nbconvert_exporter": "python",
   "pygments_lexer": "ipython3",
   "version": "3.4.2"
  }
 },
 "nbformat": 4,
 "nbformat_minor": 2
}
