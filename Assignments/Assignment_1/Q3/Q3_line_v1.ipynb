{
 "cells": [
  {
   "cell_type": "code",
   "execution_count": 1,
   "metadata": {},
   "outputs": [],
   "source": [
    "import tensorflow as tf\n",
    "import numpy as np"
   ]
  },
  {
   "cell_type": "code",
   "execution_count": 2,
   "metadata": {},
   "outputs": [],
   "source": [
    "import matplotlib.pyplot as plt"
   ]
  },
  {
   "cell_type": "code",
   "execution_count": 3,
   "metadata": {},
   "outputs": [],
   "source": [
    "# Q3 API\n",
    "from layers import dense "
   ]
  },
  {
   "cell_type": "code",
   "execution_count": null,
   "metadata": {},
   "outputs": [],
   "source": []
  },
  {
   "cell_type": "code",
   "execution_count": 4,
   "metadata": {},
   "outputs": [
    {
     "data": {
      "text/plain": [
       "['x', 'y']"
      ]
     },
     "execution_count": 4,
     "metadata": {},
     "output_type": "execute_result"
    }
   ],
   "source": [
    "dataset = np.load('a1_dataset.npz')\n",
    "dataset.files"
   ]
  },
  {
   "cell_type": "code",
   "execution_count": 5,
   "metadata": {},
   "outputs": [
    {
     "name": "stdout",
     "output_type": "stream",
     "text": [
      "76800 9600 9600\n"
     ]
    }
   ],
   "source": [
    "# 80-10-10 split for train, validate and test images\n",
    "train_till = int(.8 * dataset['x'].shape[0])\n",
    "validate_till = int(.9 * dataset['x'].shape[0])\n",
    "\n",
    "print(train_till, validate_till-train_till, dataset['x'].shape[0]-validate_till)\n",
    "\n",
    "# training dataset\n",
    "x_train = dataset['x'][:train_till]/255\n",
    "y_train = np.eye(96)[dataset['y'][:train_till]]\n",
    "\n",
    "# validation dataset\n",
    "x_val = dataset['x'][train_till:validate_till]/255\n",
    "y_val = np.eye(96)[dataset['y'][train_till:validate_till]]\n",
    "\n",
    "# testing dataset\n",
    "x_test = dataset['x'][validate_till:]/255\n",
    "y_test = np.eye(96)[dataset['y'][validate_till:]]"
   ]
  },
  {
   "cell_type": "code",
   "execution_count": 6,
   "metadata": {},
   "outputs": [],
   "source": [
    "n_classes = 96\n",
    "n_features = 2352\n",
    "batch_size = 25\n",
    "epochs = 30\n",
    "learning_rate = 0.3"
   ]
  },
  {
   "cell_type": "code",
   "execution_count": 7,
   "metadata": {},
   "outputs": [],
   "source": [
    "# input\n",
    "x_p = tf.placeholder(tf.float32, [None, n_features])\n",
    "# output\n",
    "y_p = tf.placeholder(tf.float32, [None, n_classes])"
   ]
  },
  {
   "cell_type": "code",
   "execution_count": 8,
   "metadata": {},
   "outputs": [],
   "source": [
    "# define architecture\n",
    "n_l1 = 192\n",
    "\n",
    "# set up layers\n",
    "hidden1 = dense(x=x_p, in_length=n_features, neurons=n_l1, activation=tf.nn.relu, layer_name='Layer_1', wdev=0.03)\n",
    "output = dense(x=hidden1, in_length=n_l1, neurons=n_classes, activation=tf.nn.softmax, layer_name='Layer_Output', wdev=0.03)\n",
    "y_clipped = tf.clip_by_value(output, 1e-10, 0.9999999)\n",
    "cross_entropy = -tf.reduce_mean(tf.reduce_sum(y_p * tf.log(y_clipped)+ (1 - y_p) * tf.log(1 - y_clipped), axis=1))\n",
    "\n",
    "optimiser = tf.train.GradientDescentOptimizer(learning_rate=learning_rate).minimize(cross_entropy)"
   ]
  },
  {
   "cell_type": "code",
   "execution_count": 9,
   "metadata": {},
   "outputs": [],
   "source": [
    "prediction_vector = tf.argmax(y_p, 1)\n",
    "output_vector = tf.argmax(output, 1)"
   ]
  },
  {
   "cell_type": "code",
   "execution_count": 10,
   "metadata": {},
   "outputs": [],
   "source": [
    "acc, acc_op = tf.metrics.accuracy(prediction_vector, output_vector)"
   ]
  },
  {
   "cell_type": "code",
   "execution_count": 11,
   "metadata": {},
   "outputs": [],
   "source": [
    "conmat = tf.confusion_matrix(prediction_vector, output_vector)"
   ]
  },
  {
   "cell_type": "code",
   "execution_count": 12,
   "metadata": {},
   "outputs": [
    {
     "name": "stdout",
     "output_type": "stream",
     "text": [
      "Epoch:  1 train_loss = 2.7414 validate_accuracy = 0.6845\n",
      "Epoch:  2 train_loss = 1.0087 validate_accuracy = 0.7716\n",
      "Epoch:  3 train_loss = 0.5541 validate_accuracy = 0.8195\n",
      "Epoch:  4 train_loss = 0.3334 validate_accuracy = 0.8510\n",
      "Epoch:  5 train_loss = 0.2210 validate_accuracy = 0.8740\n",
      "Epoch:  6 train_loss = 0.1410 validate_accuracy = 0.8909\n",
      "Epoch:  7 train_loss = 0.0701 validate_accuracy = 0.9051\n",
      "Epoch:  8 train_loss = 0.0448 validate_accuracy = 0.9160\n",
      "Epoch:  9 train_loss = 0.0309 validate_accuracy = 0.9245\n",
      "Epoch: 10 train_loss = 0.0224 validate_accuracy = 0.9315\n",
      "Epoch: 11 train_loss = 0.0177 validate_accuracy = 0.9371\n",
      "Epoch: 12 train_loss = 0.0146 validate_accuracy = 0.9419\n",
      "Epoch: 13 train_loss = 0.0123 validate_accuracy = 0.9459\n",
      "Epoch: 14 train_loss = 0.0106 validate_accuracy = 0.9494\n",
      "Epoch: 15 train_loss = 0.0093 validate_accuracy = 0.9524\n",
      "Epoch: 16 train_loss = 0.0083 validate_accuracy = 0.9551\n",
      "Epoch: 17 train_loss = 0.0074 validate_accuracy = 0.9574\n",
      "Epoch: 18 train_loss = 0.0067 validate_accuracy = 0.9595\n",
      "Epoch: 19 train_loss = 0.0061 validate_accuracy = 0.9613\n",
      "Epoch: 20 train_loss = 0.0056 validate_accuracy = 0.9630\n",
      "Epoch: 21 train_loss = 0.0052 validate_accuracy = 0.9645\n",
      "Epoch: 22 train_loss = 0.0048 validate_accuracy = 0.9659\n",
      "Epoch: 23 train_loss = 0.0045 validate_accuracy = 0.9671\n",
      "Epoch: 24 train_loss = 0.0042 validate_accuracy = 0.9683\n",
      "Epoch: 25 train_loss = 0.0040 validate_accuracy = 0.9693\n",
      "Epoch: 26 train_loss = 0.0038 validate_accuracy = 0.9703\n",
      "Epoch: 27 train_loss = 0.0036 validate_accuracy = 0.9712\n",
      "Epoch: 28 train_loss = 0.0034 validate_accuracy = 0.9720\n",
      "Epoch: 29 train_loss = 0.0032 validate_accuracy = 0.9728\n",
      "Epoch: 30 train_loss = 0.0031 validate_accuracy = 0.9735\n",
      "Testing Accuracy: 0.97418344\n",
      "Confusion Matrix: [[110   0   0 ...   0   0   0]\n",
      " [  0  95   0 ...   0   0   0]\n",
      " [  0   1  97 ...   0   0   0]\n",
      " ...\n",
      " [  0   0   0 ... 111   0   0]\n",
      " [  0   0   0 ...   0 107   0]\n",
      " [  0   0   0 ...   0   0 106]]\n"
     ]
    }
   ],
   "source": [
    "with tf.Session() as sess:\n",
    "    sess.run(tf.global_variables_initializer())\n",
    "    sess.run(tf.local_variables_initializer())\n",
    "    avg_loss = []\n",
    "    validate_accuracy = []\n",
    "    total_batches = x_train.shape[0] // batch_size\n",
    "    \n",
    "    # Training\n",
    "    for e in range(epochs):\n",
    "        avg_loss.append(0.0)\n",
    "        for b in range(total_batches):\n",
    "            start = b*batch_size\n",
    "            end = (b+1)*batch_size\n",
    "            batch = sess.run([optimiser, cross_entropy], \n",
    "                     feed_dict={x_p: x_train[start:end], y_p: y_train[start:end]})\n",
    "            avg_loss[e] += batch[1] / total_batches\n",
    "        # validation\n",
    "        accuracy = sess.run(acc_op,\n",
    "                 feed_dict={x_p: x_val, y_p: y_val})\n",
    "        validate_accuracy.append(accuracy)\n",
    "        print(\"Epoch:\",\"{:2d}\".format(e+1), \"train_loss =\", \"{:.4f}\".format(avg_loss[e]), \"validate_accuracy =\", \"{:.4f}\".format(validate_accuracy[e]))\n",
    "        \n",
    "    # Testing\n",
    "    test_accuracy, confusion_mat = sess.run([acc_op, conmat],\n",
    "                    feed_dict={x_p:x_test, y_p:y_test})\n",
    "    \n",
    "    print('Testing Accuracy:', test_accuracy)\n",
    "    print('Confusion Matrix:', confusion_mat)\n",
    "    tf.io.write_graph(sess.graph_def, 'graphs/', 'line-v1.pbtxt')"
   ]
  },
  {
   "cell_type": "code",
   "execution_count": 13,
   "metadata": {},
   "outputs": [
    {
     "data": {
      "image/png": "[encoded data removed]",
      "text/plain": [
       "<Figure size 432x288 with 1 Axes>"
      ]
     },
     "metadata": {
      "needs_background": "light"
     },
     "output_type": "display_data"
    }
   ],
   "source": [
    "plt.xlabel('Epoch')\n",
    "plt.ylabel('Cross Entropy Loss')\n",
    "plt.plot(avg_loss[None:])\n",
    "plt.show()"
   ]
  },
  {
   "cell_type": "code",
   "execution_count": 14,
   "metadata": {},
   "outputs": [
    {
     "data": {
      "image/png": "[encoded data removed]",
      "text/plain": [
       "<Figure size 432x288 with 1 Axes>"
      ]
     },
     "metadata": {
      "needs_background": "light"
     },
     "output_type": "display_data"
    }
   ],
   "source": [
    "plt.xlabel('Epoch')\n",
    "plt.ylabel('Validation Accuracy')\n",
    "plt.plot(validate_accuracy)\n",
    "plt.show()"
   ]
  },
  {
   "cell_type": "code",
   "execution_count": 15,
   "metadata": {},
   "outputs": [
    {
     "name": "stdout",
     "output_type": "stream",
     "text": [
      "Precision: [1.         1.         0.98979592 1.         1.         1.\n",
      " 1.         0.97619048 0.89189189 1.         0.92       0.94736842\n",
      " 0.98058252 0.96226415 1.         1.         0.97247706 1.\n",
      " 0.98823529 0.98130841 0.97413793 1.         0.92222222 0.95505618\n",
      " 0.99122807 1.         1.         1.         1.         1.\n",
      " 1.         1.         0.99166667 1.         1.         1.\n",
      " 1.         1.         1.         1.         1.         1.\n",
      " 1.         1.         1.         1.         1.         1.\n",
      " 1.         1.         1.         1.         1.         1.\n",
      " 1.         1.         1.         1.         1.         1.\n",
      " 1.         1.         1.         1.         1.         1.\n",
      " 1.         1.         1.         1.         1.         1.\n",
      " 1.         1.         1.         1.         1.         1.\n",
      " 1.         1.         1.         1.         1.         1.\n",
      " 1.         1.         1.         1.         1.         1.\n",
      " 1.         1.         1.         1.         1.         1.        ]\n",
      "\n",
      "Recall: [0.99099099 0.98958333 1.         1.         1.         1.\n",
      " 1.         0.87234043 0.98019802 0.98989899 0.95833333 0.92783505\n",
      " 0.95283019 0.99029126 1.         0.98809524 1.         0.97938144\n",
      " 1.         0.96330275 0.9826087  1.         0.95402299 0.92391304\n",
      " 1.         0.98876404 1.         1.         1.         1.\n",
      " 1.         0.98924731 1.         1.         1.         1.\n",
      " 1.         1.         1.         1.         1.         1.\n",
      " 1.         1.         1.         1.         1.         1.\n",
      " 1.         1.         1.         1.         1.         1.\n",
      " 1.         1.         1.         1.         1.         1.\n",
      " 1.         1.         1.         1.         1.         1.\n",
      " 1.         1.         1.         1.         1.         1.\n",
      " 1.         1.         1.         1.         1.         1.\n",
      " 1.         1.         1.         1.         1.         1.\n",
      " 1.         1.         1.         1.         1.         1.\n",
      " 1.         1.         1.         1.         1.         1.        ]\n",
      "\n",
      "F_scores: [0.99547511 0.9947644  0.99487179 1.         1.         1.\n",
      " 1.         0.92134831 0.93396226 0.99492386 0.93877551 0.9375\n",
      " 0.96650718 0.97607656 1.         0.99401198 0.98604651 0.98958333\n",
      " 0.99408284 0.97222222 0.97835498 1.         0.93785311 0.93922652\n",
      " 0.99559471 0.99435028 1.         1.         1.         1.\n",
      " 1.         0.99459459 0.9958159  1.         1.         1.\n",
      " 1.         1.         1.         1.         1.         1.\n",
      " 1.         1.         1.         1.         1.         1.\n",
      " 1.         1.         1.         1.         1.         1.\n",
      " 1.         1.         1.         1.         1.         1.\n",
      " 1.         1.         1.         1.         1.         1.\n",
      " 1.         1.         1.         1.         1.         1.\n",
      " 1.         1.         1.         1.         1.         1.\n",
      " 1.         1.         1.         1.         1.         1.\n",
      " 1.         1.         1.         1.         1.         1.\n",
      " 1.         1.         1.         1.         1.         1.        ]\n"
     ]
    }
   ],
   "source": [
    "True_positives = np.diag(confusion_mat)\n",
    "False_positives = np.sum(confusion_mat, axis=1) - True_positives\n",
    "False_negatives = np.sum(confusion_mat, axis=0) - True_positives\n",
    "Precision = True_positives / (True_positives + False_positives)\n",
    "print(\"Precision:\", Precision)\n",
    "Recall = True_positives / (True_positives + False_negatives)\n",
    "print(\"\\nRecall:\", Recall)\n",
    "F_scores = (2*Precision*Recall) / (Recall+Precision)\n",
    "print(\"\\nF_scores:\", F_scores)"
   ]
  },
  {
   "cell_type": "code",
   "execution_count": 16,
   "metadata": {},
   "outputs": [
    {
     "data": {
      "image/png": "[encoded data removed]",
      "text/plain": [
       "<Figure size 432x288 with 1 Axes>"
      ]
     },
     "metadata": {
      "needs_background": "light"
     },
     "output_type": "display_data"
    }
   ],
   "source": [
    "plt.plot(Precision, label='Precision')\n",
    "plt.plot(Recall, label='Recall')\n",
    "plt.plot(F_scores, label='F Scores')\n",
    "plt.ylabel('Score')\n",
    "plt.xlabel('Class')\n",
    "plt.legend()\n",
    "plt.show()"
   ]
  },
  {
   "cell_type": "code",
   "execution_count": 17,
   "metadata": {},
   "outputs": [],
   "source": [
    "np.savez_compressed('linev1-conmat.npz', cmat=confusion_mat)"
   ]
  },
  {
   "cell_type": "code",
   "execution_count": null,
   "metadata": {},
   "outputs": [],
   "source": []
  }
 ],
 "metadata": {
  "kernelspec": {
   "display_name": "Python 3",
   "language": "python",
   "name": "python3"
  },
  "language_info": {
   "codemirror_mode": {
    "name": "ipython",
    "version": 3
   },
   "file_extension": ".py",
   "mimetype": "text/x-python",
   "name": "python",
   "nbconvert_exporter": "python",
   "pygments_lexer": "ipython3",
   "version": "3.6.8"
  }
 },
 "nbformat": 4,
 "nbformat_minor": 2
}
