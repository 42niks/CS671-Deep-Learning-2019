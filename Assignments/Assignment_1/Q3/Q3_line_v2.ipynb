{
 "cells": [
  {
   "cell_type": "code",
   "execution_count": 1,
   "metadata": {},
   "outputs": [],
   "source": [
    "import tensorflow as tf\n",
    "import numpy as np"
   ]
  },
  {
   "cell_type": "code",
   "execution_count": 2,
   "metadata": {},
   "outputs": [],
   "source": [
    "import matplotlib.pyplot as plt"
   ]
  },
  {
   "cell_type": "code",
   "execution_count": 3,
   "metadata": {},
   "outputs": [],
   "source": [
    "# Q3 API\n",
    "from layers import dense "
   ]
  },
  {
   "cell_type": "code",
   "execution_count": null,
   "metadata": {},
   "outputs": [],
   "source": []
  },
  {
   "cell_type": "code",
   "execution_count": 4,
   "metadata": {},
   "outputs": [
    {
     "data": {
      "text/plain": [
       "['x', 'y']"
      ]
     },
     "execution_count": 4,
     "metadata": {},
     "output_type": "execute_result"
    }
   ],
   "source": [
    "dataset = np.load('a1_dataset.npz')\n",
    "dataset.files"
   ]
  },
  {
   "cell_type": "code",
   "execution_count": 5,
   "metadata": {},
   "outputs": [
    {
     "name": "stdout",
     "output_type": "stream",
     "text": [
      "76800 9600 9600\n"
     ]
    }
   ],
   "source": [
    "# 80-10-10 split for train, validate and test images\n",
    "train_till = int(.8 * dataset['x'].shape[0])\n",
    "validate_till = int(.9 * dataset['x'].shape[0])\n",
    "\n",
    "print(train_till, validate_till-train_till, dataset['x'].shape[0]-validate_till)\n",
    "\n",
    "# training dataset\n",
    "x_train = dataset['x'][:train_till]/255\n",
    "y_train = np.eye(96)[dataset['y'][:train_till]]\n",
    "\n",
    "# validation dataset\n",
    "x_val = dataset['x'][train_till:validate_till]/255\n",
    "y_val = np.eye(96)[dataset['y'][train_till:validate_till]]\n",
    "\n",
    "# testing dataset\n",
    "x_test = dataset['x'][validate_till:]/255\n",
    "y_test = np.eye(96)[dataset['y'][validate_till:]]"
   ]
  },
  {
   "cell_type": "code",
   "execution_count": 6,
   "metadata": {},
   "outputs": [],
   "source": [
    "n_classes = 96\n",
    "n_features = 2352\n",
    "batch_size = 800\n",
    "epochs = 50\n",
    "learning_rate = 0.3"
   ]
  },
  {
   "cell_type": "code",
   "execution_count": 7,
   "metadata": {},
   "outputs": [],
   "source": [
    "# input\n",
    "x_p = tf.placeholder(tf.float32, [None, n_features])\n",
    "# output\n",
    "y_p = tf.placeholder(tf.float32, [None, n_classes])"
   ]
  },
  {
   "cell_type": "code",
   "execution_count": 8,
   "metadata": {},
   "outputs": [],
   "source": [
    "# define architecture\n",
    "n_l1 = 128\n",
    "\n",
    "# set up layers\n",
    "hidden1 = dense(x=x_p, in_length=n_features, neurons=n_l1, activation=tf.nn.relu, layer_name='Layer_1', dev=0.1)\n",
    "output = dense(x=hidden1, in_length=n_l1, neurons=n_classes, activation=tf.nn.softmax, layer_name='Layer_Output', dev=0.1)\n",
    "y_clipped = tf.clip_by_value(output, 1e-10, 0.9999999)\n",
    "cross_entropy = -tf.reduce_mean(tf.reduce_sum(y_p * tf.log(y_clipped)+ (1 - y_p) * tf.log(1 - y_clipped), axis=1))\n",
    "\n",
    "optimiser = tf.train.GradientDescentOptimizer(learning_rate=learning_rate).minimize(cross_entropy)"
   ]
  },
  {
   "cell_type": "code",
   "execution_count": 9,
   "metadata": {},
   "outputs": [],
   "source": [
    "prediction_vector = tf.argmax(y_p, 1)\n",
    "output_vector = tf.argmax(output, 1)"
   ]
  },
  {
   "cell_type": "code",
   "execution_count": 10,
   "metadata": {},
   "outputs": [],
   "source": [
    "acc, acc_op = tf.metrics.accuracy(prediction_vector, output_vector)"
   ]
  },
  {
   "cell_type": "code",
   "execution_count": 11,
   "metadata": {},
   "outputs": [],
   "source": [
    "conmat = tf.confusion_matrix(prediction_vector, output_vector)"
   ]
  },
  {
   "cell_type": "code",
   "execution_count": 12,
   "metadata": {
    "scrolled": true
   },
   "outputs": [
    {
     "name": "stdout",
     "output_type": "stream",
     "text": [
      "Epoch:  1 train_loss = 5.1487 validate_accuracy = 0.0901\n",
      "Epoch:  2 train_loss = 4.5501 validate_accuracy = 0.1242\n",
      "Epoch:  3 train_loss = 4.1361 validate_accuracy = 0.1595\n",
      "Epoch:  4 train_loss = 3.7643 validate_accuracy = 0.1924\n",
      "Epoch:  5 train_loss = 3.4517 validate_accuracy = 0.2217\n",
      "Epoch:  6 train_loss = 3.1921 validate_accuracy = 0.2485\n",
      "Epoch:  7 train_loss = 2.9710 validate_accuracy = 0.2737\n",
      "Epoch:  8 train_loss = 2.7756 validate_accuracy = 0.2971\n",
      "Epoch:  9 train_loss = 2.5999 validate_accuracy = 0.3190\n",
      "Epoch: 10 train_loss = 2.4412 validate_accuracy = 0.3398\n",
      "Epoch: 11 train_loss = 2.2965 validate_accuracy = 0.3600\n",
      "Epoch: 12 train_loss = 2.1648 validate_accuracy = 0.3793\n",
      "Epoch: 13 train_loss = 2.0423 validate_accuracy = 0.3977\n",
      "Epoch: 14 train_loss = 1.9307 validate_accuracy = 0.4152\n",
      "Epoch: 15 train_loss = 1.8282 validate_accuracy = 0.4320\n",
      "Epoch: 16 train_loss = 1.7327 validate_accuracy = 0.4480\n",
      "Epoch: 17 train_loss = 1.6450 validate_accuracy = 0.4633\n",
      "Epoch: 18 train_loss = 1.5646 validate_accuracy = 0.4780\n",
      "Epoch: 19 train_loss = 1.4903 validate_accuracy = 0.4922\n",
      "Epoch: 20 train_loss = 1.4211 validate_accuracy = 0.5056\n",
      "Epoch: 21 train_loss = 1.3563 validate_accuracy = 0.5185\n",
      "Epoch: 22 train_loss = 1.2955 validate_accuracy = 0.5309\n",
      "Epoch: 23 train_loss = 1.2382 validate_accuracy = 0.5427\n",
      "Epoch: 24 train_loss = 1.1843 validate_accuracy = 0.5540\n",
      "Epoch: 25 train_loss = 1.1333 validate_accuracy = 0.5647\n",
      "Epoch: 26 train_loss = 1.0852 validate_accuracy = 0.5751\n",
      "Epoch: 27 train_loss = 1.0398 validate_accuracy = 0.5849\n",
      "Epoch: 28 train_loss = 0.9969 validate_accuracy = 0.5943\n",
      "Epoch: 29 train_loss = 0.9563 validate_accuracy = 0.6034\n",
      "Epoch: 30 train_loss = 0.9181 validate_accuracy = 0.6120\n",
      "Epoch: 31 train_loss = 0.8819 validate_accuracy = 0.6203\n",
      "Epoch: 32 train_loss = 0.8478 validate_accuracy = 0.6282\n",
      "Epoch: 33 train_loss = 0.8155 validate_accuracy = 0.6358\n",
      "Epoch: 34 train_loss = 0.7850 validate_accuracy = 0.6431\n",
      "Epoch: 35 train_loss = 0.7561 validate_accuracy = 0.6502\n",
      "Epoch: 36 train_loss = 0.7288 validate_accuracy = 0.6569\n",
      "Epoch: 37 train_loss = 0.7029 validate_accuracy = 0.6634\n",
      "Epoch: 38 train_loss = 0.6783 validate_accuracy = 0.6697\n",
      "Epoch: 39 train_loss = 0.6549 validate_accuracy = 0.6757\n",
      "Epoch: 40 train_loss = 0.6327 validate_accuracy = 0.6814\n",
      "Epoch: 41 train_loss = 0.6116 validate_accuracy = 0.6870\n",
      "Epoch: 42 train_loss = 0.5916 validate_accuracy = 0.6924\n",
      "Epoch: 43 train_loss = 0.5725 validate_accuracy = 0.6976\n",
      "Epoch: 44 train_loss = 0.5542 validate_accuracy = 0.7026\n",
      "Epoch: 45 train_loss = 0.5369 validate_accuracy = 0.7075\n",
      "Epoch: 46 train_loss = 0.5203 validate_accuracy = 0.7121\n",
      "Epoch: 47 train_loss = 0.5046 validate_accuracy = 0.7167\n",
      "Epoch: 48 train_loss = 0.4895 validate_accuracy = 0.7211\n",
      "Epoch: 49 train_loss = 0.4752 validate_accuracy = 0.7253\n",
      "Epoch: 50 train_loss = 0.4615 validate_accuracy = 0.7294\n",
      "Testing Accuracy: 0.7334314\n",
      "Confusion Matrix: [[ 71  21   4 ...   0   0   0]\n",
      " [ 26  56  11 ...   0   0   0]\n",
      " [  0  12  85 ...   0   0   0]\n",
      " ...\n",
      " [  0   0   0 ... 111   0   0]\n",
      " [  0   0   0 ...   0 107   0]\n",
      " [  0   0   0 ...   0   0 106]]\n"
     ]
    }
   ],
   "source": [
    "with tf.Session() as sess:\n",
    "    sess.run(tf.global_variables_initializer())\n",
    "    sess.run(tf.local_variables_initializer())\n",
    "    avg_loss = []\n",
    "    validate_accuracy = []\n",
    "    total_batches = x_train.shape[0] // batch_size\n",
    "    \n",
    "    # Training\n",
    "    for e in range(epochs):\n",
    "        avg_loss.append(0.0)\n",
    "        for b in range(total_batches):\n",
    "            start = b*batch_size\n",
    "            end = (b+1)*batch_size\n",
    "            batch = sess.run([optimiser, cross_entropy], \n",
    "                     feed_dict={x_p: x_train[start:end], y_p: y_train[start:end]})\n",
    "            avg_loss[e] += batch[1] / total_batches\n",
    "        # validation\n",
    "        accuracy = sess.run(acc_op,\n",
    "                 feed_dict={x_p: x_val, y_p: y_val})\n",
    "        validate_accuracy.append(accuracy)\n",
    "        print(\"Epoch:\",\"{:2d}\".format(e+1), \"train_loss =\", \"{:.4f}\".format(avg_loss[e]), \"validate_accuracy =\", \"{:.4f}\".format(validate_accuracy[e]))\n",
    "        \n",
    "    # Testing\n",
    "    test_accuracy, confusion_mat = sess.run([acc_op, conmat],\n",
    "                    feed_dict={x_p:x_test, y_p:y_test})\n",
    "    \n",
    "    print('Testing Accuracy:', test_accuracy)\n",
    "    print('Confusion Matrix:', confusion_mat)\n",
    "    tf.io.write_graph(sess.graph_def, 'graphs/', 'line-v2.pbtxt')"
   ]
  },
  {
   "cell_type": "code",
   "execution_count": 13,
   "metadata": {},
   "outputs": [
    {
     "data": {
      "image/png": "[encoded data removed]",
      "text/plain": [
       "<Figure size 432x288 with 1 Axes>"
      ]
     },
     "metadata": {
      "needs_background": "light"
     },
     "output_type": "display_data"
    }
   ],
   "source": [
    "plt.xlabel('Epoch')\n",
    "plt.ylabel('Cross Entropy Loss')\n",
    "plt.plot(avg_loss[None:])\n",
    "plt.show()"
   ]
  },
  {
   "cell_type": "code",
   "execution_count": 14,
   "metadata": {},
   "outputs": [
    {
     "data": {
      "image/png": "[encoded data removed]",
      "text/plain": [
       "<Figure size 432x288 with 1 Axes>"
      ]
     },
     "metadata": {
      "needs_background": "light"
     },
     "output_type": "display_data"
    }
   ],
   "source": [
    "plt.xlabel('Epoch')\n",
    "plt.ylabel('Validation Accuracy')\n",
    "plt.plot(validate_accuracy)\n",
    "plt.show()"
   ]
  },
  {
   "cell_type": "code",
   "execution_count": 15,
   "metadata": {},
   "outputs": [
    {
     "name": "stdout",
     "output_type": "stream",
     "text": [
      "Precision: [0.64545455 0.58947368 0.86734694 0.96969697 0.7012987  0.84210526\n",
      " 0.88888889 0.48809524 0.81981982 1.         0.66       0.43157895\n",
      " 0.75728155 0.5        0.93137255 0.98795181 0.78899083 0.53684211\n",
      " 0.94117647 0.44859813 0.93965517 1.         0.51111111 0.73033708\n",
      " 0.93859649 0.92045455 0.98863636 1.         1.         0.99107143\n",
      " 1.         0.97826087 0.98333333 1.         0.98989899 0.97\n",
      " 0.94339623 0.90909091 1.         0.98214286 0.98989899 1.\n",
      " 0.9875     1.         1.         0.98       0.99130435 0.97916667\n",
      " 1.         1.         1.         1.         1.         1.\n",
      " 1.         1.         0.99122807 0.99082569 0.98198198 0.98969072\n",
      " 1.         1.         1.         1.         1.         1.\n",
      " 1.         1.         0.99038462 1.         0.98989899 1.\n",
      " 1.         1.         1.         1.         1.         1.\n",
      " 1.         1.         1.         1.         1.         1.\n",
      " 1.         1.         1.         1.         1.         1.\n",
      " 1.         1.         1.         1.         1.         1.        ]\n",
      "\n",
      "Recall: [0.60169492 0.60869565 0.83333333 0.93203883 0.83076923 0.69565217\n",
      " 0.92631579 0.640625   0.7        0.89090909 0.69473684 0.56944444\n",
      " 0.7027027  0.76811594 0.80508475 0.92134831 0.688      0.72857143\n",
      " 0.76190476 0.84210526 0.70322581 0.93457944 0.70769231 0.57017544\n",
      " 0.93043478 0.94186047 0.98863636 0.98913043 1.         1.\n",
      " 0.99019608 0.97826087 0.99159664 1.         0.98989899 0.96039604\n",
      " 0.93457944 0.93023256 0.99166667 0.99099099 1.         0.99074074\n",
      " 1.         1.         1.         1.         0.98275862 0.94949495\n",
      " 1.         1.         1.         1.         1.         1.\n",
      " 1.         0.9893617  1.         1.         0.98198198 0.97959184\n",
      " 1.         1.         1.         1.         1.         1.\n",
      " 1.         0.99       1.         1.         1.         0.99107143\n",
      " 1.         1.         1.         1.         1.         1.\n",
      " 1.         1.         1.         1.         1.         1.\n",
      " 1.         1.         1.         1.         1.         1.\n",
      " 1.         1.         1.         1.         1.         1.        ]\n",
      "\n",
      "F_scores: [0.62280702 0.59893048 0.85       0.95049505 0.76056338 0.76190476\n",
      " 0.90721649 0.55405405 0.75518672 0.94230769 0.67692308 0.49101796\n",
      " 0.72897196 0.60571429 0.86363636 0.95348837 0.73504274 0.61818182\n",
      " 0.84210526 0.58536585 0.80442804 0.96618357 0.59354839 0.64039409\n",
      " 0.93449782 0.93103448 0.98863636 0.99453552 1.         0.9955157\n",
      " 0.99507389 0.97826087 0.9874477  1.         0.98989899 0.96517413\n",
      " 0.93896714 0.91954023 0.9958159  0.98654709 0.99492386 0.99534884\n",
      " 0.99371069 1.         1.         0.98989899 0.98701299 0.96410256\n",
      " 1.         1.         1.         1.         1.         1.\n",
      " 1.         0.99465241 0.99559471 0.99539171 0.98198198 0.98461538\n",
      " 1.         1.         1.         1.         1.         1.\n",
      " 1.         0.99497487 0.99516908 1.         0.99492386 0.9955157\n",
      " 1.         1.         1.         1.         1.         1.\n",
      " 1.         1.         1.         1.         1.         1.\n",
      " 1.         1.         1.         1.         1.         1.\n",
      " 1.         1.         1.         1.         1.         1.        ]\n"
     ]
    }
   ],
   "source": [
    "True_positives = np.diag(confusion_mat)\n",
    "False_positives = np.sum(confusion_mat, axis=1) - True_positives\n",
    "False_negatives = np.sum(confusion_mat, axis=0) - True_positives\n",
    "Precision = True_positives / (True_positives + False_positives)\n",
    "print(\"Precision:\", Precision)\n",
    "Recall = True_positives / (True_positives + False_negatives)\n",
    "print(\"\\nRecall:\", Recall)\n",
    "F_scores = (2*Precision*Recall) / (Recall+Precision)\n",
    "print(\"\\nF_scores:\", F_scores)"
   ]
  },
  {
   "cell_type": "code",
   "execution_count": 16,
   "metadata": {},
   "outputs": [
    {
     "data": {
      "image/png": "[encoded data removed]",
      "text/plain": [
       "<Figure size 432x288 with 1 Axes>"
      ]
     },
     "metadata": {
      "needs_background": "light"
     },
     "output_type": "display_data"
    }
   ],
   "source": [
    "plt.plot(Precision, label='Precision')\n",
    "plt.plot(Recall, label='Recall')\n",
    "plt.plot(F_scores, label='F Scores')\n",
    "plt.ylabel('Score')\n",
    "plt.xlabel('Class')\n",
    "plt.legend()\n",
    "plt.show()"
   ]
  },
  {
   "cell_type": "code",
   "execution_count": 17,
   "metadata": {},
   "outputs": [],
   "source": [
    "np.savez_compressed('linev2-conmat.npz', cmat=confusion_mat)"
   ]
  }
 ],
 "metadata": {
  "kernelspec": {
   "display_name": "Python 3",
   "language": "python",
   "name": "python3"
  },
  "language_info": {
   "codemirror_mode": {
    "name": "ipython",
    "version": 3
   },
   "file_extension": ".py",
   "mimetype": "text/x-python",
   "name": "python",
   "nbconvert_exporter": "python",
   "pygments_lexer": "ipython3",
   "version": "3.6.8"
  }
 },
 "nbformat": 4,
 "nbformat_minor": 2
}
