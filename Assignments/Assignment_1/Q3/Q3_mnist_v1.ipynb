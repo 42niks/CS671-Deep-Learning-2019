{
 "cells": [
  {
   "cell_type": "code",
   "execution_count": 1,
   "metadata": {},
   "outputs": [],
   "source": [
    "import tensorflow as tf\n",
    "import numpy as np"
   ]
  },
  {
   "cell_type": "code",
   "execution_count": 2,
   "metadata": {},
   "outputs": [],
   "source": [
    "import matplotlib.pyplot as plt"
   ]
  },
  {
   "cell_type": "code",
   "execution_count": 3,
   "metadata": {},
   "outputs": [],
   "source": [
    "# Q3 API\n",
    "from layers import dense "
   ]
  },
  {
   "cell_type": "code",
   "execution_count": 4,
   "metadata": {},
   "outputs": [],
   "source": [
    "epochs = 35\n",
    "batch_size = 200\n",
    "learning_rate = 0.3"
   ]
  },
  {
   "cell_type": "code",
   "execution_count": 5,
   "metadata": {},
   "outputs": [],
   "source": [
    "mnist = np.load('mnist.npz')"
   ]
  },
  {
   "cell_type": "code",
   "execution_count": 6,
   "metadata": {},
   "outputs": [],
   "source": [
    "# split training data (60,000) into 55,000 for train and 5,000 for validate images\n",
    "train, x_test = mnist['x_train'], mnist['x_test']\n",
    "train = train.reshape((60000, 784))/255\n",
    "x_train = train[:55000].copy()\n",
    "x_val = train[55000:].copy()\n",
    "x_test = x_test.reshape((10000, 784))/255\n",
    "# labels\n",
    "train_labels = mnist['y_train']\n",
    "y_train = np.eye(10)[train_labels[:55000]]\n",
    "y_val = np.eye(10)[train_labels[55000:]]\n",
    "y_test = np.eye(10)[mnist['y_test']]"
   ]
  },
  {
   "cell_type": "code",
   "execution_count": null,
   "metadata": {},
   "outputs": [],
   "source": []
  },
  {
   "cell_type": "code",
   "execution_count": 7,
   "metadata": {},
   "outputs": [],
   "source": [
    "# input\n",
    "x_p = tf.placeholder(tf.float32, [None, 784])\n",
    "# output\n",
    "y_p = tf.placeholder(tf.float32, [None, 10])"
   ]
  },
  {
   "cell_type": "code",
   "execution_count": 8,
   "metadata": {},
   "outputs": [],
   "source": [
    "hidden1 = dense(x=x_p, in_length=784, neurons=300, activation=tf.nn.relu, layer_name='Layer_1', dev=0.01)\n",
    "hidden2 = dense(x=hidden1, in_length=300, neurons=100, activation=tf.nn.relu, layer_name='Layer_2', dev=0.01)\n",
    "output = dense(x=hidden2, in_length=100, neurons=10, activation=tf.nn.softmax, layer_name='Layer_Output')\n",
    "y_clipped = tf.clip_by_value(output, 1e-10, 0.9999999)\n",
    "cross_entropy = -tf.reduce_mean(tf.reduce_sum(y_p * tf.log(y_clipped)+ (1 - y_p) * tf.log(1 - y_clipped), axis=1))\n",
    "optimiser = tf.train.GradientDescentOptimizer(learning_rate=learning_rate).minimize(cross_entropy)"
   ]
  },
  {
   "cell_type": "code",
   "execution_count": 9,
   "metadata": {},
   "outputs": [],
   "source": [
    "labels = tf.argmax(y_p, 1)\n",
    "predictions = tf.argmax(output, 1)"
   ]
  },
  {
   "cell_type": "code",
   "execution_count": 10,
   "metadata": {},
   "outputs": [],
   "source": [
    "acc, acc_op = tf.metrics.accuracy(labels, predictions)"
   ]
  },
  {
   "cell_type": "code",
   "execution_count": 11,
   "metadata": {},
   "outputs": [],
   "source": [
    "conmat = tf.confusion_matrix(labels, predictions)"
   ]
  },
  {
   "cell_type": "code",
   "execution_count": 12,
   "metadata": {},
   "outputs": [
    {
     "name": "stdout",
     "output_type": "stream",
     "text": [
      "Epoch:  1 train_loss = 1.1686 validate_accuracy = 0.9400\n",
      "Epoch:  2 train_loss = 0.3525 validate_accuracy = 0.9528\n",
      "Epoch:  3 train_loss = 0.2399 validate_accuracy = 0.9575\n",
      "Epoch:  4 train_loss = 0.1832 validate_accuracy = 0.9607\n",
      "Epoch:  5 train_loss = 0.1543 validate_accuracy = 0.9631\n",
      "Epoch:  6 train_loss = 0.1225 validate_accuracy = 0.9647\n",
      "Epoch:  7 train_loss = 0.1018 validate_accuracy = 0.9660\n",
      "Epoch:  8 train_loss = 0.0853 validate_accuracy = 0.9669\n",
      "Epoch:  9 train_loss = 0.0735 validate_accuracy = 0.9676\n",
      "Epoch: 10 train_loss = 0.0654 validate_accuracy = 0.9682\n",
      "Epoch: 11 train_loss = 0.0543 validate_accuracy = 0.9686\n",
      "Epoch: 12 train_loss = 0.0519 validate_accuracy = 0.9690\n",
      "Epoch: 13 train_loss = 0.0437 validate_accuracy = 0.9694\n",
      "Epoch: 14 train_loss = 0.0397 validate_accuracy = 0.9699\n",
      "Epoch: 15 train_loss = 0.0323 validate_accuracy = 0.9702\n",
      "Epoch: 16 train_loss = 0.0309 validate_accuracy = 0.9704\n",
      "Epoch: 17 train_loss = 0.0275 validate_accuracy = 0.9707\n",
      "Epoch: 18 train_loss = 0.0239 validate_accuracy = 0.9710\n",
      "Epoch: 19 train_loss = 0.0252 validate_accuracy = 0.9712\n",
      "Epoch: 20 train_loss = 0.0564 validate_accuracy = 0.9714\n",
      "Epoch: 21 train_loss = 0.0238 validate_accuracy = 0.9716\n",
      "Epoch: 22 train_loss = 0.0194 validate_accuracy = 0.9718\n",
      "Epoch: 23 train_loss = 0.0141 validate_accuracy = 0.9721\n",
      "Epoch: 24 train_loss = 0.0094 validate_accuracy = 0.9724\n",
      "Epoch: 25 train_loss = 0.0069 validate_accuracy = 0.9727\n",
      "Epoch: 26 train_loss = 0.0045 validate_accuracy = 0.9729\n",
      "Epoch: 27 train_loss = 0.0036 validate_accuracy = 0.9731\n",
      "Epoch: 28 train_loss = 0.0028 validate_accuracy = 0.9733\n",
      "Epoch: 29 train_loss = 0.0024 validate_accuracy = 0.9735\n",
      "Epoch: 30 train_loss = 0.0020 validate_accuracy = 0.9737\n",
      "Epoch: 31 train_loss = 0.0017 validate_accuracy = 0.9739\n",
      "Epoch: 32 train_loss = 0.0015 validate_accuracy = 0.9741\n",
      "Epoch: 33 train_loss = 0.0013 validate_accuracy = 0.9742\n",
      "Epoch: 34 train_loss = 0.0012 validate_accuracy = 0.9744\n",
      "Epoch: 35 train_loss = 0.0011 validate_accuracy = 0.9745\n",
      "Testing Accuracy: 0.9748054\n",
      "Confusion Matrix: [[ 968    0    1    0    0    3    3    2    2    1]\n",
      " [   1 1126    2    1    0    2    0    0    3    0]\n",
      " [   2    1 1008    3    3    0    2    9    4    0]\n",
      " [   2    0    2  993    0    2    0    3    5    3]\n",
      " [   0    0    3    1  957    1    4    2    1   13]\n",
      " [   2    0    0    8    1  870    4    1    4    2]\n",
      " [   4    3    1    1    1    7  940    0    1    0]\n",
      " [   0    2    5    3    0    0    0 1006    4    8]\n",
      " [   2    0    2    5    3    3    3    3  949    4]\n",
      " [   3    2    0    4    8    1    0    3    2  986]]\n"
     ]
    }
   ],
   "source": [
    "with tf.Session() as sess:\n",
    "    sess.run(tf.global_variables_initializer())\n",
    "    sess.run(tf.local_variables_initializer())\n",
    "    avg_loss = []\n",
    "    validate_accuracy = []\n",
    "    total_batches = x_train.shape[0] // batch_size\n",
    "    \n",
    "    # Training\n",
    "    for e in range(epochs):\n",
    "        avg_loss.append(0.0)\n",
    "        for b in range(total_batches):\n",
    "            start = b*batch_size\n",
    "            end = (b+1)*batch_size\n",
    "            batch = sess.run([optimiser, cross_entropy], \n",
    "                     feed_dict={x_p: x_train[start:end], y_p: y_train[start:end]})\n",
    "            avg_loss[e] += batch[1] / total_batches\n",
    "        \n",
    "        # Validation\n",
    "        accuracy = sess.run(acc_op,\n",
    "                 feed_dict={x_p: x_val, y_p: y_val})\n",
    "        validate_accuracy.append(accuracy)\n",
    "        print(\"Epoch: {:2d}\".format(e + 1), \"train_loss =\", \"{:.4f}\".format(avg_loss[e]), \"validate_accuracy =\", \"{:.4f}\".format(validate_accuracy[e]))\n",
    "        \n",
    "    # Testing\n",
    "    test_accuracy, confusion_mat = sess.run([acc_op, conmat],\n",
    "                    feed_dict={x_p:x_test, y_p:y_test})\n",
    "    \n",
    "    print('Testing Accuracy:', test_accuracy)\n",
    "    print('Confusion Matrix:', confusion_mat)\n",
    "    \n",
    "    tf.io.write_graph(sess.graph_def, 'graphs/', 'mnist-v1.pbtxt')    "
   ]
  },
  {
   "cell_type": "code",
   "execution_count": 13,
   "metadata": {},
   "outputs": [],
   "source": [
    "np.savetxt('mnistv1-conmat.txt', confusion_mat, fmt='%4d', delimiter=' & ', newline='\\\\\\\\\\ \\hline\\n')"
   ]
  },
  {
   "cell_type": "code",
   "execution_count": 14,
   "metadata": {},
   "outputs": [
    {
     "data": {
      "image/png": "[encoded data removed]",
      "text/plain": [
       "<Figure size 432x288 with 1 Axes>"
      ]
     },
     "metadata": {
      "needs_background": "light"
     },
     "output_type": "display_data"
    }
   ],
   "source": [
    "plt.xlabel('Epoch')\n",
    "plt.ylabel('Cross Entropy Loss')\n",
    "plt.plot(avg_loss[None:])\n",
    "plt.show()"
   ]
  },
  {
   "cell_type": "code",
   "execution_count": 15,
   "metadata": {},
   "outputs": [
    {
     "data": {
      "image/png": "[encoded data removed]",
      "text/plain": [
       "<Figure size 432x288 with 1 Axes>"
      ]
     },
     "metadata": {
      "needs_background": "light"
     },
     "output_type": "display_data"
    }
   ],
   "source": [
    "plt.xlabel('Epoch')\n",
    "plt.ylabel('Validation Accuracy')\n",
    "plt.plot(validate_accuracy)\n",
    "plt.show()"
   ]
  },
  {
   "cell_type": "code",
   "execution_count": 16,
   "metadata": {},
   "outputs": [
    {
     "name": "stdout",
     "output_type": "stream",
     "text": [
      "Precision: [0.9877551  0.99207048 0.97674419 0.98316832 0.97454175 0.97533632\n",
      " 0.98121086 0.97859922 0.97433265 0.97720515]\n",
      "\n",
      "Recall: [0.98373984 0.99294533 0.984375   0.97448479 0.98355601 0.97862767\n",
      " 0.9832636  0.9776482  0.97333333 0.96951819]\n",
      "\n",
      "F_scores: [0.98574338 0.99250771 0.98054475 0.97880729 0.97902813 0.97697923\n",
      " 0.98223615 0.97812348 0.97383273 0.9733465 ]\n"
     ]
    }
   ],
   "source": [
    "True_positives = np.diag(confusion_mat)\n",
    "False_positives = np.sum(confusion_mat, axis=1) - True_positives\n",
    "False_negatives = np.sum(confusion_mat, axis=0) - True_positives\n",
    "Precision = True_positives / (True_positives + False_positives)\n",
    "print(\"Precision:\", Precision)\n",
    "Recall = True_positives / (True_positives + False_negatives)\n",
    "print(\"\\nRecall:\", Recall)\n",
    "F_scores = (2*Precision*Recall) / (Recall+Precision)\n",
    "print(\"\\nF_scores:\", F_scores)"
   ]
  },
  {
   "cell_type": "code",
   "execution_count": 17,
   "metadata": {},
   "outputs": [
    {
     "data": {
      "image/png": "[encoded data removed]",
      "text/plain": [
       "<Figure size 432x288 with 1 Axes>"
      ]
     },
     "metadata": {
      "needs_background": "light"
     },
     "output_type": "display_data"
    }
   ],
   "source": [
    "plt.plot(Precision, label='Precision')\n",
    "plt.plot(Recall, label='Recall')\n",
    "plt.plot(F_scores, label='F Scores')\n",
    "plt.ylabel('Score')\n",
    "plt.xlabel('Class')\n",
    "plt.legend()\n",
    "plt.show()"
   ]
  }
 ],
 "metadata": {
  "kernelspec": {
   "display_name": "Python 3",
   "language": "python",
   "name": "python3"
  },
  "language_info": {
   "codemirror_mode": {
    "name": "ipython",
    "version": 3
   },
   "file_extension": ".py",
   "mimetype": "text/x-python",
   "name": "python",
   "nbconvert_exporter": "python",
   "pygments_lexer": "ipython3",
   "version": "3.6.8"
  }
 },
 "nbformat": 4,
 "nbformat_minor": 2
}
