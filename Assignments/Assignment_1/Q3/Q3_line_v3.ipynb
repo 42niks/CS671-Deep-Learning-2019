{
 "cells": [
  {
   "cell_type": "code",
   "execution_count": 1,
   "metadata": {},
   "outputs": [],
   "source": [
    "import tensorflow as tf\n",
    "import numpy as np"
   ]
  },
  {
   "cell_type": "code",
   "execution_count": 2,
   "metadata": {},
   "outputs": [],
   "source": [
    "import matplotlib.pyplot as plt"
   ]
  },
  {
   "cell_type": "code",
   "execution_count": 3,
   "metadata": {},
   "outputs": [],
   "source": [
    "# Q3 API\n",
    "from layers import dense "
   ]
  },
  {
   "cell_type": "code",
   "execution_count": null,
   "metadata": {},
   "outputs": [],
   "source": []
  },
  {
   "cell_type": "code",
   "execution_count": 4,
   "metadata": {},
   "outputs": [
    {
     "data": {
      "text/plain": [
       "['x', 'y']"
      ]
     },
     "execution_count": 4,
     "metadata": {},
     "output_type": "execute_result"
    }
   ],
   "source": [
    "dataset = np.load('a1_dataset.npz')\n",
    "dataset.files"
   ]
  },
  {
   "cell_type": "code",
   "execution_count": 5,
   "metadata": {},
   "outputs": [
    {
     "name": "stdout",
     "output_type": "stream",
     "text": [
      "76800 9600 9600\n"
     ]
    }
   ],
   "source": [
    "# 80-10-10 split for train, validate and test images\n",
    "train_till = int(.8 * dataset['x'].shape[0])\n",
    "validate_till = int(.9 * dataset['x'].shape[0])\n",
    "\n",
    "print(train_till, validate_till-train_till, dataset['x'].shape[0]-validate_till)\n",
    "\n",
    "# training dataset\n",
    "x_train = dataset['x'][:train_till]/255\n",
    "y_train = np.eye(96)[dataset['y'][:train_till]]\n",
    "\n",
    "# validation dataset\n",
    "x_val = dataset['x'][train_till:validate_till]/255\n",
    "y_val = np.eye(96)[dataset['y'][train_till:validate_till]]\n",
    "\n",
    "# testing dataset\n",
    "x_test = dataset['x'][validate_till:]/255\n",
    "y_test = np.eye(96)[dataset['y'][validate_till:]]"
   ]
  },
  {
   "cell_type": "code",
   "execution_count": 6,
   "metadata": {},
   "outputs": [],
   "source": [
    "n_classes = 96\n",
    "n_features = 2352\n",
    "batch_size = 50\n",
    "epochs = 50\n",
    "learning_rate = 0.1"
   ]
  },
  {
   "cell_type": "code",
   "execution_count": 7,
   "metadata": {},
   "outputs": [],
   "source": [
    "# input\n",
    "x_p = tf.placeholder(tf.float32, [None, n_features])\n",
    "# output\n",
    "y_p = tf.placeholder(tf.float32, [None, n_classes])"
   ]
  },
  {
   "cell_type": "code",
   "execution_count": 8,
   "metadata": {},
   "outputs": [],
   "source": [
    "# define architecture\n",
    "n_l1 = 256\n",
    "n_l2 = 128\n",
    "\n",
    "# set up layers\n",
    "hidden1 = dense(x=x_p, in_length=n_features, neurons=n_l1, activation=tf.nn.relu, layer_name='Layer_1')\n",
    "hidden2 = dense(x=hidden1, in_length=n_l1, neurons=n_l2, activation=tf.nn.relu, layer_name='Layer_2')\n",
    "output = dense(x=hidden1, in_length=n_l1, neurons=n_classes, activation=tf.nn.softmax, layer_name='Layer_Output')\n",
    "y_clipped = tf.clip_by_value(output, 1e-10, 0.9999999)\n",
    "cross_entropy = -tf.reduce_mean(tf.reduce_sum(y_p * tf.log(y_clipped)+ (1 - y_p) * tf.log(1 - y_clipped), axis=1))\n",
    "\n",
    "optimiser = tf.train.GradientDescentOptimizer(learning_rate=learning_rate).minimize(cross_entropy)"
   ]
  },
  {
   "cell_type": "code",
   "execution_count": 9,
   "metadata": {},
   "outputs": [],
   "source": [
    "prediction_vector = tf.argmax(y_p, 1)\n",
    "output_vector = tf.argmax(output, 1)"
   ]
  },
  {
   "cell_type": "code",
   "execution_count": 10,
   "metadata": {},
   "outputs": [],
   "source": [
    "acc, acc_op = tf.metrics.accuracy(prediction_vector, output_vector)"
   ]
  },
  {
   "cell_type": "code",
   "execution_count": 11,
   "metadata": {},
   "outputs": [],
   "source": [
    "conmat = tf.confusion_matrix(prediction_vector, output_vector)"
   ]
  },
  {
   "cell_type": "code",
   "execution_count": 12,
   "metadata": {
    "scrolled": true
   },
   "outputs": [
    {
     "name": "stdout",
     "output_type": "stream",
     "text": [
      "Epoch:  1 train_loss = 32.8415 validate_accuracy = 0.0497\n",
      "Epoch:  2 train_loss = 30.6241 validate_accuracy = 0.0685\n",
      "Epoch:  3 train_loss = 28.1706 validate_accuracy = 0.0830\n",
      "Epoch:  4 train_loss = 25.8823 validate_accuracy = 0.0996\n",
      "Epoch:  5 train_loss = 23.5630 validate_accuracy = 0.1153\n",
      "Epoch:  6 train_loss = 20.9577 validate_accuracy = 0.1289\n",
      "Epoch:  7 train_loss = 17.9383 validate_accuracy = 0.1418\n",
      "Epoch:  8 train_loss = 14.9069 validate_accuracy = 0.1544\n",
      "Epoch:  9 train_loss = 12.5750 validate_accuracy = 0.1682\n",
      "Epoch: 10 train_loss = 10.4634 validate_accuracy = 0.1838\n",
      "Epoch: 11 train_loss = 8.4767 validate_accuracy = 0.2010\n",
      "Epoch: 12 train_loss = 6.8023 validate_accuracy = 0.2190\n",
      "Epoch: 13 train_loss = 5.4827 validate_accuracy = 0.2375\n",
      "Epoch: 14 train_loss = 4.5168 validate_accuracy = 0.2563\n",
      "Epoch: 15 train_loss = 3.7650 validate_accuracy = 0.2752\n",
      "Epoch: 16 train_loss = 3.1800 validate_accuracy = 0.2939\n",
      "Epoch: 17 train_loss = 2.7230 validate_accuracy = 0.3123\n",
      "Epoch: 18 train_loss = 2.3341 validate_accuracy = 0.3305\n",
      "Epoch: 19 train_loss = 1.9623 validate_accuracy = 0.3482\n",
      "Epoch: 20 train_loss = 1.7098 validate_accuracy = 0.3653\n",
      "Epoch: 21 train_loss = 1.5094 validate_accuracy = 0.3816\n",
      "Epoch: 22 train_loss = 1.3523 validate_accuracy = 0.3973\n",
      "Epoch: 23 train_loss = 1.2216 validate_accuracy = 0.4123\n",
      "Epoch: 24 train_loss = 1.1111 validate_accuracy = 0.4266\n",
      "Epoch: 25 train_loss = 1.0181 validate_accuracy = 0.4403\n",
      "Epoch: 26 train_loss = 0.9424 validate_accuracy = 0.4534\n",
      "Epoch: 27 train_loss = 0.8783 validate_accuracy = 0.4659\n",
      "Epoch: 28 train_loss = 0.8199 validate_accuracy = 0.4779\n",
      "Epoch: 29 train_loss = 0.7670 validate_accuracy = 0.4894\n",
      "Epoch: 30 train_loss = 0.7207 validate_accuracy = 0.5004\n",
      "Epoch: 31 train_loss = 0.6790 validate_accuracy = 0.5108\n",
      "Epoch: 32 train_loss = 0.6407 validate_accuracy = 0.5208\n",
      "Epoch: 33 train_loss = 0.6067 validate_accuracy = 0.5303\n",
      "Epoch: 34 train_loss = 0.5757 validate_accuracy = 0.5395\n",
      "Epoch: 35 train_loss = 0.5469 validate_accuracy = 0.5484\n",
      "Epoch: 36 train_loss = 0.5205 validate_accuracy = 0.5569\n",
      "Epoch: 37 train_loss = 0.4955 validate_accuracy = 0.5652\n",
      "Epoch: 38 train_loss = 0.4721 validate_accuracy = 0.5731\n",
      "Epoch: 39 train_loss = 0.4507 validate_accuracy = 0.5806\n",
      "Epoch: 40 train_loss = 0.4303 validate_accuracy = 0.5880\n",
      "Epoch: 41 train_loss = 0.4115 validate_accuracy = 0.5950\n",
      "Epoch: 42 train_loss = 0.3942 validate_accuracy = 0.6018\n",
      "Epoch: 43 train_loss = 0.3775 validate_accuracy = 0.6084\n",
      "Epoch: 44 train_loss = 0.3619 validate_accuracy = 0.6148\n",
      "Epoch: 45 train_loss = 0.3472 validate_accuracy = 0.6209\n",
      "Epoch: 46 train_loss = 0.3332 validate_accuracy = 0.6268\n",
      "Epoch: 47 train_loss = 0.3202 validate_accuracy = 0.6326\n",
      "Epoch: 48 train_loss = 0.3074 validate_accuracy = 0.6381\n",
      "Epoch: 49 train_loss = 0.2939 validate_accuracy = 0.6435\n",
      "Epoch: 50 train_loss = 0.2825 validate_accuracy = 0.6487\n",
      "Testing Accuracy: 0.6536152\n",
      "Confusion Matrix: [[ 87   8   1 ...   0   0   0]\n",
      " [  6  59   7 ...   0   0   0]\n",
      " [  2   4  77 ...   0   0   0]\n",
      " ...\n",
      " [  0   0   0 ... 111   0   0]\n",
      " [  0   0   0 ...   0 106   1]\n",
      " [  0   0   0 ...   0   2 103]]\n"
     ]
    }
   ],
   "source": [
    "with tf.Session() as sess:\n",
    "    sess.run(tf.global_variables_initializer())\n",
    "    sess.run(tf.local_variables_initializer())\n",
    "    avg_loss = []\n",
    "    validate_accuracy = []\n",
    "    total_batches = x_train.shape[0] // batch_size\n",
    "    \n",
    "    # Training\n",
    "    for e in range(epochs):\n",
    "        avg_loss.append(0.0)\n",
    "        for b in range(total_batches):\n",
    "            start = b*batch_size\n",
    "            end = (b+1)*batch_size\n",
    "            batch = sess.run([optimiser, cross_entropy], \n",
    "                     feed_dict={x_p: x_train[start:end], y_p: y_train[start:end]})\n",
    "            avg_loss[e] += batch[1] / total_batches\n",
    "        # validation\n",
    "        accuracy = sess.run(acc_op,\n",
    "                 feed_dict={x_p: x_val, y_p: y_val})\n",
    "        validate_accuracy.append(accuracy)\n",
    "        print(\"Epoch:\",\"{:2d}\".format(e+1), \"train_loss =\", \"{:.4f}\".format(avg_loss[e]), \"validate_accuracy =\", \"{:.4f}\".format(validate_accuracy[e]))\n",
    "        \n",
    "    # Testing\n",
    "    test_accuracy, confusion_mat = sess.run([acc_op, conmat],\n",
    "                    feed_dict={x_p:x_test, y_p:y_test})\n",
    "    \n",
    "    print('Testing Accuracy:', test_accuracy)\n",
    "    print('Confusion Matrix:', confusion_mat)\n",
    "    tf.io.write_graph(sess.graph_def, 'graphs/', 'line-v3.pbtxt')"
   ]
  },
  {
   "cell_type": "code",
   "execution_count": 13,
   "metadata": {},
   "outputs": [
    {
     "data": {
      "image/png": "[encoded data removed]",
      "text/plain": [
       "<Figure size 432x288 with 1 Axes>"
      ]
     },
     "metadata": {
      "needs_background": "light"
     },
     "output_type": "display_data"
    }
   ],
   "source": [
    "plt.xlabel('Epoch')\n",
    "plt.ylabel('Cross Entropy Loss')\n",
    "plt.plot(avg_loss[None:])\n",
    "plt.show()"
   ]
  },
  {
   "cell_type": "code",
   "execution_count": 14,
   "metadata": {},
   "outputs": [
    {
     "data": {
      "image/png": "[encoded data removed]",
      "text/plain": [
       "<Figure size 432x288 with 1 Axes>"
      ]
     },
     "metadata": {
      "needs_background": "light"
     },
     "output_type": "display_data"
    }
   ],
   "source": [
    "plt.xlabel('Epoch')\n",
    "plt.ylabel('Validation Accuracy')\n",
    "plt.plot(validate_accuracy)\n",
    "plt.show()"
   ]
  },
  {
   "cell_type": "code",
   "execution_count": 15,
   "metadata": {},
   "outputs": [
    {
     "name": "stdout",
     "output_type": "stream",
     "text": [
      "Precision: [0.79090909 0.62105263 0.78571429 0.82828283 0.74025974 0.75789474\n",
      " 0.92929293 0.5952381  0.72972973 0.91836735 0.58       0.6\n",
      " 0.76699029 0.68867925 0.83333333 0.68674699 0.68807339 0.72631579\n",
      " 0.87058824 0.68224299 0.80172414 0.9        0.55555556 0.73033708\n",
      " 0.86842105 0.73863636 0.90909091 0.84615385 0.94623656 0.91964286\n",
      " 0.89108911 0.90217391 0.88333333 0.92792793 0.92929293 0.76\n",
      " 0.83018868 0.82954545 0.95798319 0.85714286 0.93939394 0.90654206\n",
      " 0.925      0.81904762 0.90291262 0.95       0.92173913 0.84375\n",
      " 0.96296296 0.98979592 0.99029126 1.         1.         1.\n",
      " 1.         1.         0.98245614 0.96330275 0.93693694 0.94845361\n",
      " 0.95555556 0.97916667 1.         1.         0.98958333 1.\n",
      " 1.         0.98989899 0.97115385 0.99029126 0.98989899 0.93693694\n",
      " 0.98       1.         1.         1.         0.99029126 1.\n",
      " 1.         1.         0.96385542 0.97       0.9        1.\n",
      " 0.98076923 1.         0.99       1.         1.         1.\n",
      " 1.         1.         0.98913043 1.         0.99065421 0.97169811]\n",
      "\n",
      "Recall: [0.83653846 0.60204082 0.79381443 0.65079365 0.73076923 0.68571429\n",
      " 0.88461538 0.80645161 0.77142857 0.72       0.79452055 0.58762887\n",
      " 0.88764045 0.81111111 0.87628866 0.57       0.81521739 0.73404255\n",
      " 0.85057471 0.74489796 0.86111111 0.62068966 0.74626866 0.51181102\n",
      " 0.76153846 0.84415584 0.87912088 0.84615385 0.93617021 0.96261682\n",
      " 0.94736842 0.8556701  0.9137931  0.91964286 0.85185185 0.82608696\n",
      " 0.88       0.85882353 0.92682927 0.87272727 0.89423077 0.92380952\n",
      " 0.88095238 0.93478261 0.88571429 0.9223301  0.90598291 0.89010989\n",
      " 1.         1.         1.         0.96774194 1.         0.99115044\n",
      " 0.97938144 0.97894737 1.         0.97222222 0.95412844 1.\n",
      " 1.         0.96907216 0.98913043 1.         0.97938144 1.\n",
      " 1.         0.98       0.97115385 0.99029126 0.98       0.98113208\n",
      " 0.98989899 1.         0.98979592 1.         0.99029126 1.\n",
      " 0.99122807 1.         0.98765432 0.98979592 0.96428571 0.97087379\n",
      " 1.         0.98958333 0.99       1.         0.99193548 1.\n",
      " 0.97142857 0.97938144 0.97849462 1.         0.98148148 0.99038462]\n",
      "\n",
      "F_scores: [0.81308411 0.61139896 0.78974359 0.72888889 0.73548387 0.72\n",
      " 0.90640394 0.68493151 0.75       0.80717489 0.67052023 0.59375\n",
      " 0.82291667 0.74489796 0.85427136 0.62295082 0.74626866 0.73015873\n",
      " 0.86046512 0.71219512 0.83035714 0.73469388 0.63694268 0.60185185\n",
      " 0.81147541 0.78787879 0.89385475 0.84615385 0.94117647 0.94063927\n",
      " 0.91836735 0.87830688 0.89830508 0.92376682 0.88888889 0.79166667\n",
      " 0.85436893 0.84393064 0.94214876 0.86486486 0.91625616 0.91509434\n",
      " 0.90243902 0.87309645 0.89423077 0.93596059 0.9137931  0.86631016\n",
      " 0.98113208 0.99487179 0.99512195 0.98360656 1.         0.99555556\n",
      " 0.98958333 0.9893617  0.99115044 0.96774194 0.94545455 0.97354497\n",
      " 0.97727273 0.97409326 0.99453552 1.         0.98445596 1.\n",
      " 1.         0.98492462 0.97115385 0.99029126 0.98492462 0.95852535\n",
      " 0.98492462 1.         0.99487179 1.         0.99029126 1.\n",
      " 0.99559471 1.         0.97560976 0.97979798 0.93103448 0.98522167\n",
      " 0.99029126 0.9947644  0.99       1.         0.99595142 1.\n",
      " 0.98550725 0.98958333 0.98378378 1.         0.98604651 0.98095238]\n"
     ]
    }
   ],
   "source": [
    "True_positives = np.diag(confusion_mat)\n",
    "False_positives = np.sum(confusion_mat, axis=1) - True_positives\n",
    "False_negatives = np.sum(confusion_mat, axis=0) - True_positives\n",
    "Precision = True_positives / (True_positives + False_positives)\n",
    "print(\"Precision:\", Precision)\n",
    "Recall = True_positives / (True_positives + False_negatives)\n",
    "print(\"\\nRecall:\", Recall)\n",
    "F_scores = (2*Precision*Recall) / (Recall+Precision)\n",
    "print(\"\\nF_scores:\", F_scores)"
   ]
  },
  {
   "cell_type": "code",
   "execution_count": 16,
   "metadata": {},
   "outputs": [
    {
     "data": {
      "image/png": "[encoded data removed]",
      "text/plain": [
       "<Figure size 432x288 with 1 Axes>"
      ]
     },
     "metadata": {
      "needs_background": "light"
     },
     "output_type": "display_data"
    }
   ],
   "source": [
    "plt.plot(Precision, label='Precision')\n",
    "plt.plot(Recall, label='Recall')\n",
    "plt.plot(F_scores, label='F Scores')\n",
    "plt.ylabel('Score')\n",
    "plt.xlabel('Class')\n",
    "plt.legend()\n",
    "plt.show()"
   ]
  },
  {
   "cell_type": "code",
   "execution_count": 17,
   "metadata": {},
   "outputs": [],
   "source": [
    "np.savez_compressed('linev3-conmat.npz', cmat=confusion_mat)"
   ]
  }
 ],
 "metadata": {
  "kernelspec": {
   "display_name": "Python 3",
   "language": "python",
   "name": "python3"
  },
  "language_info": {
   "codemirror_mode": {
    "name": "ipython",
    "version": 3
   },
   "file_extension": ".py",
   "mimetype": "text/x-python",
   "name": "python",
   "nbconvert_exporter": "python",
   "pygments_lexer": "ipython3",
   "version": "3.6.8"
  }
 },
 "nbformat": 4,
 "nbformat_minor": 2
}
