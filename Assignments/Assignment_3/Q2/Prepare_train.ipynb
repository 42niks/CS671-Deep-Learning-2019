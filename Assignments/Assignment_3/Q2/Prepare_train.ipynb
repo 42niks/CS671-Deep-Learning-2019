{
 "cells": [
  {
   "cell_type": "markdown",
   "metadata": {},
   "source": [
    "### Here prepare training data for vgg case (224,224,3)"
   ]
  },
  {
   "cell_type": "code",
   "execution_count": 1,
   "metadata": {},
   "outputs": [
    {
     "name": "stderr",
     "output_type": "stream",
     "text": [
      "Using TensorFlow backend.\n"
     ]
    }
   ],
   "source": [
    "from os import listdir\n",
    "from os.path import isfile, join\n",
    "import matplotlib.image as img\n",
    "from matplotlib import pyplot as plt\n",
    "import pickle\n",
    "\n",
    "from keras.models import *\n",
    "from keras.models import Model\n",
    "from keras.layers import *\n",
    "\n",
    "import shutil\n",
    "import os\n",
    "\n",
    "import cv2, os\n",
    "import numpy as np\n",
    "import matplotlib.pyplot as plt\n",
    "import matplotlib\n",
    "# import seaborn as sns\n",
    "\n",
    "%matplotlib inline"
   ]
  },
  {
   "cell_type": "code",
   "execution_count": 4,
   "metadata": {},
   "outputs": [],
   "source": [
    "mypath1 = \"Q2/Data/\"\n",
    "onlyfiles1 = [f for f in listdir(mypath1) if isfile(join(mypath1, f))]\n",
    "\n",
    "mypath2 = \"Q2/Mask/\"\n",
    "onlyfiles2 = [f for f in listdir(mypath2) if isfile(join(mypath2, f))]\n",
    "\n",
    "with open('Q2/train.pickle', 'rb') as handle:\n",
    "    train = pickle.load(handle)"
   ]
  },
  {
   "cell_type": "code",
   "execution_count": null,
   "metadata": {},
   "outputs": [],
   "source": [
    "ind = 112\n",
    "\n",
    "im1 = mypath1+train[ind][0]\n",
    "im2 = mypath2+train[ind][1]\n",
    "\n",
    "#print(im1)\n",
    "#im1 = another_path\n",
    "\n",
    "\n",
    "image1 = img.imread(im1)\n",
    "image2 = img.imread(im2)\n",
    "\n",
    "# image_row = image1.shape[0]\n",
    "# image_col = image1.shape[1]\n",
    "\n",
    "# plt.imshow(image1)\n",
    "# plt.show()\n",
    "\n",
    "plt.imshow(image2,cmap=\"gray\")\n",
    "plt.show()\n",
    "\n",
    "# print(image1.shape)\n",
    "print(image2.shape)"
   ]
  },
  {
   "cell_type": "code",
   "execution_count": 6,
   "metadata": {},
   "outputs": [],
   "source": [
    "def resize_data(im,h,w):\n",
    "    i = np.float32(cv2.resize(im, ( h , w ))) / 128\n",
    "    return i\n",
    "\n",
    "def resize_mask(im,h,w):\n",
    "    i = np.float32(cv2.resize(im, ( h , w )))\n",
    "    return i"
   ]
  },
  {
   "cell_type": "code",
   "execution_count": 65,
   "metadata": {},
   "outputs": [
    {
     "name": "stdout",
     "output_type": "stream",
     "text": [
      "10000\n"
     ]
    }
   ],
   "source": [
    "print(len(train))"
   ]
  },
  {
   "cell_type": "code",
   "execution_count": 7,
   "metadata": {},
   "outputs": [],
   "source": [
    "# itr = 0\n",
    "\n",
    "# for k in range(0,len(train)):\n",
    "#     im1 = str(mypath1+train[k][0])\n",
    "#     im2 = str(mypath2+train[k][1])\n",
    "    \n",
    "#     #image1 = img.imread(im1)\n",
    "#     image1 = cv2.imread(im1)\n",
    "#     image2 = cv2.imread(im2)\n",
    "    \n",
    "# #     plt.imshow(image1)\n",
    "# #     plt.show()\n",
    "    \n",
    "#     im1_re = resize_data(image1,224,224)\n",
    "#     im2_re = resize_mask(image2,224,224)\n",
    "#     cv2.imwrite(\"resized_data/data/\"+str(itr)+\".tiff\",im1_re)\n",
    "#     cv2.imwrite(\"resized_data/mask/\"+str(itr)+\".tiff\",im2_re)\n",
    "# #     plt.imshow(im1_re)\n",
    "# #     plt.show()\n",
    "#     itr+=1\n"
   ]
  },
  {
   "cell_type": "markdown",
   "metadata": {},
   "source": [
    "### save data for resized image and renamed image"
   ]
  },
  {
   "cell_type": "code",
   "execution_count": 8,
   "metadata": {},
   "outputs": [],
   "source": [
    "mypath3 = \"resized_data/data/\"\n",
    "onlyfiles3 = [f for f in listdir(mypath3) if isfile(join(mypath3, f))]\n",
    "\n",
    "mypath4 = \"resized_data/mask/\"\n",
    "onlyfiles4 = [f for f in listdir(mypath4) if isfile(join(mypath4, f))]"
   ]
  },
  {
   "cell_type": "code",
   "execution_count": null,
   "metadata": {},
   "outputs": [],
   "source": [
    "itr = 0\n",
    "des = \"renamed_data/\"\n",
    "\n",
    "for k in range(0,len(train)):\n",
    "    im1 = str(mypath1+train[k][0])\n",
    "    im2 = str(mypath2+train[k][1])\n",
    "    \n",
    "    ## copy data from one folder to another\n",
    "    shutil.copy2(im1,des+\"data/\")\n",
    "    shutil.copy2(im2,des+\"mask/\")\n",
    "\n",
    "    ## rename the data\n",
    "    os.rename(des+\"data/\"+train[k][0],des+\"data/\"+str(itr)+\".tiff\")\n",
    "    os.rename(des+\"mask/\"+train[k][1],des+\"mask/\"+str(itr)+\".tiff\")\n",
    "    \n",
    "    itr+=1\n"
   ]
  },
  {
   "cell_type": "code",
   "execution_count": null,
   "metadata": {},
   "outputs": [],
   "source": []
  }
 ],
 "metadata": {
  "kernelspec": {
   "display_name": "Python 3",
   "language": "python",
   "name": "python3"
  },
  "language_info": {
   "codemirror_mode": {
    "name": "ipython",
    "version": 3
   },
   "file_extension": ".py",
   "mimetype": "text/x-python",
   "name": "python",
   "nbconvert_exporter": "python",
   "pygments_lexer": "ipython3",
   "version": "3.4.2"
  }
 },
 "nbformat": 4,
 "nbformat_minor": 2
}
