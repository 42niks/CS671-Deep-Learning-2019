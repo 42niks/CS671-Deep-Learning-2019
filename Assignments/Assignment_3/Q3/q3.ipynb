{
 "cells": [
  {
   "cell_type": "code",
   "execution_count": 1,
   "metadata": {},
   "outputs": [],
   "source": [
    "import numpy as np\n",
    "from tensorflow.keras.models import Sequential\n",
    "from tensorflow.keras.layers import Input, Conv2D, Flatten, Dense, MaxPooling2D, BatchNormalization, Dropout"
   ]
  },
  {
   "cell_type": "code",
   "execution_count": 2,
   "metadata": {},
   "outputs": [
    {
     "name": "stdout",
     "output_type": "stream",
     "text": [
      "(3986, 400, 250, 1)\n"
     ]
    }
   ],
   "source": [
    "d = np.load('Core_Point/data.npz')\n",
    "print(x.shape)"
   ]
  },
  {
   "cell_type": "code",
   "execution_count": 3,
   "metadata": {},
   "outputs": [
    {
     "name": "stdout",
     "output_type": "stream",
     "text": [
      "(3986, 2)\n"
     ]
    }
   ],
   "source": [
    "gt = np.load('Core_Point/gt.npz')\n",
    "y = gt['gt']\n",
    "print(y.shape)"
   ]
  },
  {
   "cell_type": "markdown",
   "metadata": {},
   "source": [
    "# Model"
   ]
  },
  {
   "cell_type": "code",
   "execution_count": 5,
   "metadata": {},
   "outputs": [],
   "source": [
    "model = Sequential()\n",
    "model.add(Conv2D(filters=32, kernel_size=3, activation='relu', input_shape=(400, 250, 1)))\n",
    "model.add(BatchNormalization())\n",
    "model.add(MaxPooling2D(pool_size=(4,4)))\n",
    "model.add(Conv2D(filters=32, kernel_size=3, activation='relu'))\n",
    "model.add(BatchNormalization())\n",
    "model.add(MaxPooling2D(pool_size=(4,4)))\n",
    "model.add(Conv2D(filters=32, kernel_size=3, activation='relu'))\n",
    "model.add(BatchNormalization())\n",
    "model.add(MaxPooling2D(pool_size=(4,4)))\n",
    "\n",
    "model.add(Flatten())\n",
    "model.add(Dense(128, activation='relu'))\n",
    "model.add(Dropout(.2))\n",
    "model.add(Dense(64, activation='relu'))\n",
    "model.add(Dropout(.2))\n",
    "model.add(Dense(2, activation='relu'))"
   ]
  },
  {
   "cell_type": "code",
   "execution_count": 6,
   "metadata": {},
   "outputs": [],
   "source": [
    "model.compile(optimizer='adam',\n",
    "              loss='mse')"
   ]
  },
  {
   "cell_type": "code",
   "execution_count": 7,
   "metadata": {},
   "outputs": [
    {
     "name": "stdout",
     "output_type": "stream",
     "text": [
      "_________________________________________________________________\n",
      "Layer (type)                 Output Shape              Param #   \n",
      "=================================================================\n",
      "conv2d (Conv2D)              (None, 398, 248, 32)      320       \n",
      "_________________________________________________________________\n",
      "batch_normalization (BatchNo (None, 398, 248, 32)      128       \n",
      "_________________________________________________________________\n",
      "max_pooling2d (MaxPooling2D) (None, 99, 62, 32)        0         \n",
      "_________________________________________________________________\n",
      "conv2d_1 (Conv2D)            (None, 97, 60, 32)        9248      \n",
      "_________________________________________________________________\n",
      "batch_normalization_1 (Batch (None, 97, 60, 32)        128       \n",
      "_________________________________________________________________\n",
      "max_pooling2d_1 (MaxPooling2 (None, 24, 15, 32)        0         \n",
      "_________________________________________________________________\n",
      "conv2d_2 (Conv2D)            (None, 22, 13, 32)        9248      \n",
      "_________________________________________________________________\n",
      "batch_normalization_2 (Batch (None, 22, 13, 32)        128       \n",
      "_________________________________________________________________\n",
      "max_pooling2d_2 (MaxPooling2 (None, 5, 3, 32)          0         \n",
      "_________________________________________________________________\n",
      "flatten (Flatten)            (None, 480)               0         \n",
      "_________________________________________________________________\n",
      "dense (Dense)                (None, 128)               61568     \n",
      "_________________________________________________________________\n",
      "dropout (Dropout)            (None, 128)               0         \n",
      "_________________________________________________________________\n",
      "dense_1 (Dense)              (None, 64)                8256      \n",
      "_________________________________________________________________\n",
      "dropout_1 (Dropout)          (None, 64)                0         \n",
      "_________________________________________________________________\n",
      "dense_2 (Dense)              (None, 2)                 130       \n",
      "=================================================================\n",
      "Total params: 89,154\n",
      "Trainable params: 88,962\n",
      "Non-trainable params: 192\n",
      "_________________________________________________________________\n",
      "None\n"
     ]
    }
   ],
   "source": [
    "print(model.summary())"
   ]
  },
  {
   "cell_type": "code",
   "execution_count": 8,
   "metadata": {},
   "outputs": [
    {
     "name": "stdout",
     "output_type": "stream",
     "text": [
      "Train on 3587 samples, validate on 399 samples\n",
      "Epoch 1/15\n",
      "3587/3587 [==============================] - 136s 38ms/step - loss: 6039.7933 - val_loss: 9310.0081\n",
      "Epoch 2/15\n",
      "3587/3587 [==============================] - 131s 37ms/step - loss: 3132.0878 - val_loss: 4971.0644\n",
      "Epoch 3/15\n",
      "3587/3587 [==============================] - 131s 37ms/step - loss: 3044.5977 - val_loss: 3217.5695\n",
      "Epoch 4/15\n",
      "3587/3587 [==============================] - 131s 37ms/step - loss: 2916.8157 - val_loss: 2536.4739\n",
      "Epoch 5/15\n",
      "3587/3587 [==============================] - 131s 37ms/step - loss: 2828.2268 - val_loss: 2427.0858\n",
      "Epoch 6/15\n",
      "3587/3587 [==============================] - 131s 37ms/step - loss: 2815.1186 - val_loss: 2517.9195\n",
      "Epoch 7/15\n",
      "3587/3587 [==============================] - 132s 37ms/step - loss: 2755.5084 - val_loss: 2655.0669\n",
      "Epoch 8/15\n",
      "3587/3587 [==============================] - 132s 37ms/step - loss: 2748.3684 - val_loss: 3148.6759\n",
      "Epoch 9/15\n",
      "3587/3587 [==============================] - 132s 37ms/step - loss: 2676.3104 - val_loss: 3740.8998\n",
      "Epoch 10/15\n",
      "3587/3587 [==============================] - 132s 37ms/step - loss: 2703.9536 - val_loss: 2632.9487\n",
      "Epoch 11/15\n",
      "3587/3587 [==============================] - 132s 37ms/step - loss: 2541.5178 - val_loss: 3081.4226\n",
      "Epoch 12/15\n",
      "3587/3587 [==============================] - 131s 37ms/step - loss: 2567.3323 - val_loss: 2458.7021\n",
      "Epoch 13/15\n",
      "3587/3587 [==============================] - 132s 37ms/step - loss: 2565.4194 - val_loss: 2596.4762\n",
      "Epoch 14/15\n",
      "3587/3587 [==============================] - 132s 37ms/step - loss: 2537.4694 - val_loss: 2417.8066\n",
      "Epoch 15/15\n",
      "3587/3587 [==============================] - 132s 37ms/step - loss: 2431.4520 - val_loss: 2810.4260\n"
     ]
    }
   ],
   "source": [
    "history = model.fit(x, y, epochs=15, batch_size=16, validation_split=0.1, shuffle=True)"
   ]
  },
  {
   "cell_type": "code",
   "execution_count": 10,
   "metadata": {},
   "outputs": [],
   "source": [
    "model.save(\"model.h5\")"
   ]
  }
 ],
 "metadata": {
  "kernelspec": {
   "display_name": "Python 3",
   "language": "python",
   "name": "python3"
  },
  "language_info": {
   "codemirror_mode": {
    "name": "ipython",
    "version": 3
   },
   "file_extension": ".py",
   "mimetype": "text/x-python",
   "name": "python",
   "nbconvert_exporter": "python",
   "pygments_lexer": "ipython3",
   "version": "3.6.8"
  }
 },
 "nbformat": 4,
 "nbformat_minor": 2
}
